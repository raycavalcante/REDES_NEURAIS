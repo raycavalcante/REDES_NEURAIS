{
 "cells": [
  {
   "cell_type": "code",
   "execution_count": 2,
   "metadata": {},
   "outputs": [
    {
     "name": "stdout",
     "output_type": "stream",
     "text": [
      "Área do terreno:  20.0\n"
     ]
    }
   ],
   "source": [
    "# exer 01\n",
    "base_terreno = float(input('Entre coma a base do terreno: '))\n",
    "altura_terreno = float(input('Entre com a altura do terreno: '))\n",
    "area_terreno = base_terreno * altura_terreno\n",
    "print('Área do terreno: ',area_terreno)"
   ]
  },
  {
   "cell_type": "code",
   "execution_count": 4,
   "metadata": {},
   "outputs": [
    {
     "name": "stdout",
     "output_type": "stream",
     "text": [
      "Serão necessario 40 ferraduras para equipar 10 cavalos\n"
     ]
    }
   ],
   "source": [
    "# exer 02\n",
    "qtd_cavalos = int(input('Qunatos cavalos foram comprados? '))\n",
    "total_ferraduras = qtd_cavalos * 4\n",
    "print('Serão necessario {} ferraduras para equipar {} cavalos'.format(total_ferraduras,qtd_cavalos))"
   ]
  },
  {
   "cell_type": "code",
   "execution_count": 6,
   "metadata": {},
   "outputs": [
    {
     "name": "stdout",
     "output_type": "stream",
     "text": [
      "O senhor(a) deve guarda R$12.60 de R$126.00\n"
     ]
    }
   ],
   "source": [
    "# exer 03\n",
    "paos = int(input('Quantos pãozinho foram comprados? '))\n",
    "broas = int(input('Quantas broas forma comprados '))\n",
    "total_dinheiro = (paos * 0.12)  + (broas * 1.50)\n",
    "dinheiro_guarda = (total_dinheiro * 10) / 100\n",
    "print('O senhor(a) deve guarda R${:.2f} de R${:.2f}'.format(dinheiro_guarda,total_dinheiro))"
   ]
  },
  {
   "cell_type": "code",
   "execution_count": 9,
   "metadata": {},
   "outputs": [
    {
     "name": "stdout",
     "output_type": "stream",
     "text": [
      "Ray VOCÊ JÁ VIVEU 7300\n"
     ]
    }
   ],
   "source": [
    "# exer 04\n",
    "nome = str(input('Entre com seu nome: '))\n",
    "idade = int(input('Entre com seu nome: '))\n",
    "dias_vividos = idade * 365\n",
    "print('{} VOCÊ JÁ VIVEU {}'.format(nome, dias_vividos))"
   ]
  },
  {
   "cell_type": "code",
   "execution_count": null,
   "metadata": {},
   "outputs": [
    {
     "name": "stdout",
     "output_type": "stream",
     "text": [
      "Com R$50.0 poderão ser compradas 10 litros\n"
     ]
    }
   ],
   "source": [
    "# exer 05\n",
    "from math import floor\n",
    "preco_litro = float(input('Entre com o preço do litro da galosina: '))\n",
    "valor_pagamento = float(input('Entre com o valor do pagamento: '))\n",
    "qtd_litros = valor_pagamento / preco_litro\n",
    "qtd_litros = floor(qtd_litros)\n",
    "print('Com R${} poderão ser compradas {} litros'.format(valor_pagamento,qtd_litros))"
   ]
  },
  {
   "cell_type": "code",
   "execution_count": 10,
   "metadata": {},
   "outputs": [
    {
     "name": "stdout",
     "output_type": "stream",
     "text": [
      "Total a pagar pelo prato: R$120.0\n"
     ]
    }
   ],
   "source": [
    "# exer 06\n",
    "peso_prato = float(input('Entre com o peso do prato (quilo): '))\n",
    "total_pagar = peso_prato * 12\n",
    "print('Total a pagar pelo prato: R${}'.format(total_pagar))"
   ]
  },
  {
   "cell_type": "code",
   "execution_count": 14,
   "metadata": {},
   "outputs": [
    {
     "name": "stdout",
     "output_type": "stream",
     "text": [
      "Já se passaram 340 desde o inicio do ano\n"
     ]
    }
   ],
   "source": [
    "# exer 07\n",
    "dia = int(input('Informe o dia: '))\n",
    "mes = int(input('Informe o mês: '))\n",
    "mes = mes - 1\n",
    "total_dias = (mes * 30) + 10\n",
    "print('Já se passaram {} desde o inicio do ano'.format(total_dias))"
   ]
  },
  {
   "cell_type": "code",
   "execution_count": 15,
   "metadata": {},
   "outputs": [
    {
     "name": "stdout",
     "output_type": "stream",
     "text": [
      "Média: 10.00\n"
     ]
    }
   ],
   "source": [
    "# exer 08\n",
    "n1 = float(input('Entre com a 1º nota: '))\n",
    "n2 = float(input('Entre com a 2º nota: '))\n",
    "n3 = float(input('Entre com a 3º nota: '))\n",
    "m = (n1+n2+n3) / 3\n",
    "print('Média: {:.2f}'.format(m))"
   ]
  },
  {
   "cell_type": "code",
   "execution_count": 16,
   "metadata": {},
   "outputs": [
    {
     "name": "stdout",
     "output_type": "stream",
     "text": [
      "Total a pagar: R$37.00\n"
     ]
    }
   ],
   "source": [
    "# exer 09\n",
    "qtd_pequenas = int(input('Entre com a quantidade de camisa pequenas: '))\n",
    "qtd_medias = int(input('Entre com a quantidade de camisa médias: '))\n",
    "qtd_grandes = int(input('Entre com a quantidade de camisa grandes: '))\n",
    "total_pagar = (qtd_pequenas * 10) + (qtd_medias*12) + (qtd_grandes*15)\n",
    "print('Total a pagar: R${:.2f}'.format(total_pagar))"
   ]
  },
  {
   "cell_type": "code",
   "execution_count": null,
   "metadata": {},
   "outputs": [
    {
     "name": "stdout",
     "output_type": "stream",
     "text": [
      "Distância: 1.00\n"
     ]
    }
   ],
   "source": [
    "# exer 10\n",
    "from math import sqrt\n",
    "x1 = float(input('Valor de X1: '))\n",
    "x2 = float(input('Valor de X2: '))\n",
    "y1 = float(input('Valor de y1: '))\n",
    "y2 = float(input('Valor de y2: '))\n",
    "\n",
    "distancia = sqrt(2**(x1-x2) + 2**(y1-y2))\n",
    "\n",
    "print('Distância: {:.2f}'.format(distancia))\n"
   ]
  },
  {
   "cell_type": "code",
   "execution_count": null,
   "metadata": {},
   "outputs": [
    {
     "name": "stdout",
     "output_type": "stream",
     "text": [
      "Apresentando os resultados \n",
      "Dias:  10\n",
      "Mês:  3\n",
      "Anos:  3\n"
     ]
    }
   ],
   "source": [
    "# exer 11\n",
    "dias = int(input('Entre com a quantidade de dias sem acidentes: '))\n",
    "anos = mes = anos = 0\n",
    "dia = dias\n",
    "\n",
    "if dias > 31 and dias < 365:\n",
    "    while dias > 30:\n",
    "        dias -= 30\n",
    "        mes += 1\n",
    "    dia = dias\n",
    "else:\n",
    "    while dias > 365:\n",
    "        dias -= 365\n",
    "        anos += 1\n",
    "    if dias > 31 and dias < 365:\n",
    "        while dias > 30:\n",
    "            dias -= 30\n",
    "            mes += 1\n",
    "    dia = dias\n",
    "print('Apresentando os resultados ')\n",
    "print('Dias: ',dias)\n",
    "print('Mês: ',mes)\n",
    "print('Anos: ',anos)  "
   ]
  },
  {
   "cell_type": "code",
   "execution_count": 23,
   "metadata": {},
   "outputs": [
    {
     "name": "stdout",
     "output_type": "stream",
     "text": [
      "Salário final: 105.80\n"
     ]
    }
   ],
   "source": [
    "# exer 12\n",
    "salario = float(input('Entre com seu salário: '))\n",
    "salario = salario + ((salario*15)/100)\n",
    "salario = salario - ((salario*8) / 100)\n",
    "print('Salário final: {:.2f}'.format(salario))\n"
   ]
  },
  {
   "cell_type": "code",
   "execution_count": 25,
   "metadata": {},
   "outputs": [
    {
     "name": "stdout",
     "output_type": "stream",
     "text": [
      "Número digitado:  123\n",
      "Unidade: 3\n",
      "Dezena: 2\n",
      "Centeca: 1\n",
      "PROGRAMA FINALIZADO!\n"
     ]
    }
   ],
   "source": [
    "# exer 13\n",
    "num = int(input('Entre com um númro no maximo de 3 digitos: '))\n",
    "u = d = c = 0\n",
    "print('Número digitado: ',num)\n",
    "if num < 1000:\n",
    "    u = num // 1 % 10\n",
    "    d = num // 10 % 10\n",
    "    c = num // 100 % 10\n",
    "print('Unidade: {}'.format(u))\n",
    "print('Dezena: {}'.format(d))\n",
    "print('Centeca: {}'.format(c))\n",
    "print('PROGRAMA FINALIZADO!')"
   ]
  },
  {
   "cell_type": "code",
   "execution_count": null,
   "metadata": {},
   "outputs": [
    {
     "name": "stdout",
     "output_type": "stream",
     "text": [
      "Raio:  12.0\n",
      "Àrea:  452.16\n"
     ]
    }
   ],
   "source": [
    "# exer 14\n",
    "raio = float(input('Entre com o raio: '))\n",
    "print('Raio: ',raio)\n",
    "area = 3.14 * (raio)**2\n",
    "print('Àrea: ',area)"
   ]
  },
  {
   "cell_type": "code",
   "execution_count": null,
   "metadata": {},
   "outputs": [
    {
     "name": "stdout",
     "output_type": "stream",
     "text": [
      "Cada um deve pagar:  33.0\n"
     ]
    }
   ],
   "source": [
    "# exer 15\n",
    "total = float(input('Entre com o total da conta: '))\n",
    "pagar_individual = total // 3\n",
    "print('Cada um deve pagar: ',pagar_individual)"
   ]
  },
  {
   "cell_type": "code",
   "execution_count": 3,
   "metadata": {},
   "outputs": [
    {
     "name": "stdout",
     "output_type": "stream",
     "text": [
      "Fahrenheit:  54.02\n"
     ]
    }
   ],
   "source": [
    "# exer 17\n",
    "c = float(input('Entre com a temperatura em fahrenheit: '))\n",
    "f = (c*9/5) + 32\n",
    "print('Fahrenheit: ',round(f,2))"
   ]
  },
  {
   "cell_type": "code",
   "execution_count": 4,
   "metadata": {},
   "outputs": [
    {
     "name": "stdout",
     "output_type": "stream",
     "text": [
      "Salário Bruto: 325.00\n",
      "Salário Liquido: 292.50\n"
     ]
    }
   ],
   "source": [
    "# exer 18\n",
    "horas_trabalhadas = float(input('Entre com a horas trabalhadas: '))\n",
    "horas_extras = float(input('Entre com a horas extras: '))\n",
    "salario_bruto = horas_trabalhadas * 10 + horas_extras * 15\n",
    "salario_liquido = salario_bruto - ((salario_bruto*10)/100)\n",
    "print('Salário Bruto: {:.2f}'.format(salario_bruto))\n",
    "print('Salário Liquido: {:.2f}'.format(salario_liquido))\n"
   ]
  },
  {
   "cell_type": "code",
   "execution_count": 5,
   "metadata": {},
   "outputs": [
    {
     "name": "stdout",
     "output_type": "stream",
     "text": [
      "O custo total é:  110.0\n"
     ]
    }
   ],
   "source": [
    "# exer 19\n",
    "qtd_galinhas = int(input('Entre com a quantidade de galinhas: '))\n",
    "anel_chip = qtd_galinhas * 4\n",
    "anel_alimento = (qtd_galinhas * 2 ) * 3.5\n",
    "total_granja = anel_chip + anel_alimento\n",
    "print('O custo total é: ',total_granja)"
   ]
  },
  {
   "cell_type": "code",
   "execution_count": 6,
   "metadata": {},
   "outputs": [
    {
     "name": "stdout",
     "output_type": "stream",
     "text": [
      "A quantidade de novelso gastados por blusa são:  1.0\n"
     ]
    }
   ],
   "source": [
    "# exer 20\n",
    "producao = int(input('Quantas blusas produzirão? '))\n",
    "novelos = int(input('Quantidade de novelos gastados? '))\n",
    "novelos_unicos = novelos / producao\n",
    "print('A quantidade de novelso gastados por blusa são: ',novelos_unicos)"
   ]
  },
  {
   "cell_type": "code",
   "execution_count": 7,
   "metadata": {},
   "outputs": [
    {
     "name": "stdout",
     "output_type": "stream",
     "text": [
      "Foram comprados 40 litros de refrigerante!\n"
     ]
    }
   ],
   "source": [
    "# exer 21\n",
    "ml350 = int(input('Entre com a quantidade a ser comprada de 350ml: '))\n",
    "ml600 = int(input('Entre com a quantidade a ser comprada de 600ml: '))\n",
    "litros2 = int(input('Entre com a quantidade a ser comprada de 2 litros: '))\n",
    "total_ml350 = ml350 * 350\n",
    "total_ml600 = ml600 * 600\n",
    "total_2l = litros2 * 2\n",
    "qtd_litros = 0\n",
    "while total_ml350 >349:\n",
    "    total_ml350 -= 350\n",
    "    qtd_litros += 1\n",
    "while total_ml600 >599:\n",
    "    total_ml600 -= 600\n",
    "    qtd_litros += 1\n",
    "qtd_litros += total_2l\n",
    "print('Foram comprados {} litros de refrigerante!'.format(qtd_litros))"
   ]
  },
  {
   "cell_type": "code",
   "execution_count": 9,
   "metadata": {},
   "outputs": [
    {
     "name": "stdout",
     "output_type": "stream",
     "text": [
      "Total em R$5979.00\n"
     ]
    }
   ],
   "source": [
    "# exer 22\n",
    "c1 = int(input('Entre com a quantidade de 1 centavo: '))\n",
    "c5 = int(input('Entre com a quantidade de 5 centavo: '))\n",
    "c10 = int(input('Entre com a quantidade de 10 centavo: '))\n",
    "c25 = int(input('Entre com a quantidade de 25 centavo: '))\n",
    "c50 = int(input('Entre com a quantidade de 50 centavo: '))\n",
    "r1 = int(input('Entre com a quantidade de 1 real: '))\n",
    "total = (c1 / 100) + ((c5*5) / 100) + ((c10*10) / 100) + ((c25*25) / 100) + ((c50*50)/100) + r1\n",
    "print('Total em R${:.2f}'.format(total))"
   ]
  },
  {
   "cell_type": "code",
   "execution_count": null,
   "metadata": {},
   "outputs": [
    {
     "name": "stdout",
     "output_type": "stream",
     "text": [
      "Altura do prédio: {} 17.5\n"
     ]
    }
   ],
   "source": [
    "# exer 23\n",
    "sombra_predio = float(input('Entre com a sombra do predio: '))\n",
    "minha_sombra = float(input('Entre com a sua sombra: '))\n",
    "minha_altura = float(input('Entre com a sua altura: '))\n",
    "altura_predio = (minha_altura * sombra_predio) / minha_sombra\n",
    "print('Altura do prédio: {}'.format(altura_predio))"
   ]
  },
  {
   "cell_type": "code",
   "execution_count": null,
   "metadata": {},
   "outputs": [
    {
     "name": "stdout",
     "output_type": "stream",
     "text": [
      "São necessário 40.0litros de água para 50 litros de suco\n",
      "São necessário 10.0litros de suco para 50 litros de suco\n"
     ]
    }
   ],
   "source": [
    "# exer 24\n",
    "# 8 partes de agua e 2 partes de suco\n",
    "# 8 + 2 = 10\n",
    "# 8 / 10 = 0.8\n",
    "# 2 / 10 = 0.2\n",
    "# entre com litros == 50\n",
    "litros_refresco = int(input('Entre com a quantidade de litros de refresco: '))\n",
    "# quantidade de agua \n",
    "# 0.8 * 50 = x \n",
    "# quantidade de suco\n",
    "# 0.2 * 50 = x\n",
    "# ------------------------\n",
    "quantidade_agua = 0.8 * litros_refresco\n",
    "quantidade_suco = 0.2 * litros_refresco\n",
    "print('São necessário {} litros de água para {} litros de suco'.format(quantidade_agua,litros_refresco))\n",
    "print('São necessário {} litros de suco para {} litros de suco'.format(quantidade_suco,litros_refresco))\n"
   ]
  },
  {
   "cell_type": "code",
   "execution_count": 13,
   "metadata": {},
   "outputs": [
    {
     "name": "stdout",
     "output_type": "stream",
     "text": [
      "valume:  785.0\n"
     ]
    }
   ],
   "source": [
    "# exer 25\n",
    "r = float(input('Entre com raio: '))\n",
    "h = float(input('Entre com altura: '))\n",
    "v = 3.14 * r**2 * h\n",
    "print('valume: ',v)"
   ]
  },
  {
   "cell_type": "code",
   "execution_count": 4,
   "metadata": {},
   "outputs": [
    {
     "name": "stdout",
     "output_type": "stream",
     "text": [
      "\u001b[0;32;45mDigite 3 números: \u001b[0m\n",
      "Multiplicação: \u001b[1;31;45m 36\n"
     ]
    }
   ],
   "source": [
    "# exer 26\n",
    "print('\\033[0;32;45mDigite 3 números: \\033[0m')\n",
    "n1 = int(input())\n",
    "n2 = int(input())\n",
    "n3 = int(input())\n",
    "m = n1 * n2 * n3\n",
    "print('Multiplicação: \\033[1;31;45m',m)"
   ]
  },
  {
   "cell_type": "code",
   "execution_count": null,
   "metadata": {},
   "outputs": [
    {
     "name": "stdout",
     "output_type": "stream",
     "text": [
      "1º número: 23.0\n",
      "2º número: 45.0\n",
      "a divisão é: 0.51\n"
     ]
    }
   ],
   "source": [
    "# exer 27\n",
    "n1 = float(input('Entre com um número: '))\n",
    "n2 = float(input('Entre com outro número: '))\n",
    "print('1º número: {}\\n2º número: {}'.format(n1,n2))\n",
    "print('o segundo número não pode ser 0' if n2 == 0 else f'a divisão é: {n1/n2:.2f}')"
   ]
  },
  {
   "cell_type": "code",
   "execution_count": null,
   "metadata": {},
   "outputs": [],
   "source": [
    "# exer 28\n",
    "n1 = float(input('Entre com a primeira nota: '))\n",
    "n2 = float(input('Entre com a segunda nota: '))\n",
    "m = ((n1*2) + (n2*3)) / (3+ 2)\n",
    "print('\\033[4;31mMedia ponderada:\\033[0m \\033[1;32m{:.2f}'.format(m))"
   ]
  },
  {
   "cell_type": "code",
   "execution_count": 23,
   "metadata": {},
   "outputs": [
    {
     "name": "stdout",
     "output_type": "stream",
     "text": [
      "Novo preço com 10% de desconto: 900.00\n"
     ]
    }
   ],
   "source": [
    "# exer 29\n",
    "preco_produto = float(input('Entre com o preço do produto: '))\n",
    "preco_produto = preco_produto - ((preco_produto*10) / 100)\n",
    "print('Novo preço com 10% de desconto: {:.2f}'.format(preco_produto))"
   ]
  },
  {
   "cell_type": "code",
   "execution_count": 28,
   "metadata": {},
   "outputs": [
    {
     "name": "stdout",
     "output_type": "stream",
     "text": [
      "\u001b[1;35mComissão:\u001b[0m 0.16\n",
      "\u001b[1;32mSalario mais 4% do valor de sua venda:\u001b[0m 0.16\n"
     ]
    }
   ],
   "source": [
    "# exer 30\n",
    "a = '\\033[1;35m'\n",
    "b = '\\033[1;32m'\n",
    "nada = '\\033[0m'\n",
    "salario_fixo = float(input('Entre com seu salário fixo: '))\n",
    "valor_vendas = float(input('Qual o valor das suas vendas? '))\n",
    "comissao = (valor_vendas * 4) / 100\n",
    "salario_fixo += comissao\n",
    "print('{}Comissão:{} {:.2f}'.format(a,nada,comissao))\n",
    "print('{}Salario mais 4% do valor de sua venda:{} {:.2f}'.format(b,nada,comissao))"
   ]
  },
  {
   "cell_type": "code",
   "execution_count": null,
   "metadata": {},
   "outputs": [
    {
     "name": "stdout",
     "output_type": "stream",
     "text": [
      "\u001b[4;31mMedia ponderada:\u001b[0m \u001b[1;32m21.60\n"
     ]
    }
   ],
   "source": [
    "# exer 31\n",
    "peso = float(input('Entre com seu peso: '))\n",
    "peso_15 = peso + ((peso * 15)/ 100)\n",
    "peso_menos_20 = peso - ((peso * 20)/ 100)\n",
    "print('Peso se engorda 15% {:.2f}'.format(peso_15))\n",
    "print('Peso se emagrecer 20% {:.2f}'.format(peso_menos_20))"
   ]
  },
  {
   "cell_type": "code",
   "execution_count": 30,
   "metadata": {},
   "outputs": [
    {
     "name": "stdout",
     "output_type": "stream",
     "text": [
      "Peso em gramas:  60000.0\n"
     ]
    }
   ],
   "source": [
    "# exer 32\n",
    "peso_kl = float(input('Entre com o peso em quilos: '))\n",
    "peso_gramas = peso_kl * 1000\n",
    "print('Peso em gramas: ',peso_gramas)"
   ]
  },
  {
   "cell_type": "code",
   "execution_count": 31,
   "metadata": {},
   "outputs": [
    {
     "name": "stdout",
     "output_type": "stream",
     "text": [
      "Área trapezio:  27.0\n"
     ]
    }
   ],
   "source": [
    "# exer 33\n",
    "b_ma = float(input('Entre com abase maior: '))\n",
    "b_me = float(input('Entre com a base menor: '))\n",
    "altura = float(input('Entre com a altura: '))\n",
    "area_trapezio = ((b_ma + b_me) * altura)/ 2\n",
    "print('Área trapezio: ',area_trapezio)"
   ]
  },
  {
   "cell_type": "code",
   "execution_count": null,
   "metadata": {},
   "outputs": [
    {
     "name": "stdout",
     "output_type": "stream",
     "text": [
      "Àrea do quadrado:  9.0\n"
     ]
    }
   ],
   "source": [
    "# exer 34\n",
    "l = float(input('Entre com o lado: '))\n",
    "area_quadrado = l**2\n",
    "print('Àrea do quadrado: ',area_quadrado)"
   ]
  },
  {
   "cell_type": "code",
   "execution_count": null,
   "metadata": {},
   "outputs": [],
   "source": [
    "# exer 35\n",
    "d_ma = float(input('Entre com a diagonal maior: '))\n",
    "d_me = float(input('Entre com a diagonal menor: '))\n",
    "area_losango = (d_ma * d_me) / 2\n",
    "print('Àrea losango: ',area_losango)"
   ]
  },
  {
   "cell_type": "code",
   "execution_count": 36,
   "metadata": {},
   "outputs": [
    {
     "name": "stdout",
     "output_type": "stream",
     "text": [
      "O funcionário recebe 5 salários minimo\n"
     ]
    }
   ],
   "source": [
    "# exer 36\n",
    "salario_minimo = float(input('Entre com o valor do ssalário minimmo: '))\n",
    "valor_funcionario = float(input('entre com o valor do funcionário: '))\n",
    "qtd_salario_min = valor_funcionario // salario_minimo\n",
    "print('O funcionário recebe {:.0f} salários minimo'.format(qtd_salario_min))"
   ]
  },
  {
   "cell_type": "code",
   "execution_count": 38,
   "metadata": {},
   "outputs": [
    {
     "name": "stdout",
     "output_type": "stream",
     "text": [
      "5 * 1 = 5\n",
      "5 * 2 = 10\n",
      "5 * 3 = 15\n",
      "5 * 4 = 20\n",
      "5 * 5 = 25\n",
      "5 * 6 = 30\n",
      "5 * 7 = 35\n",
      "5 * 8 = 40\n",
      "5 * 9 = 45\n",
      "5 * 10 = 50\n"
     ]
    }
   ],
   "source": [
    "# exer 37\n",
    "num = int(input('Qual número deseja fazer a tabuada? '))\n",
    "for i in range(10):\n",
    "    print('{} * {} = {}'.format(num,i+1,(i+1)*num))"
   ]
  },
  {
   "cell_type": "code",
   "execution_count": 41,
   "metadata": {},
   "outputs": [
    {
     "name": "stdout",
     "output_type": "stream",
     "text": [
      "Idade em anos: 20 anos\n",
      "Idade em meses: 240 meses\n",
      "Idade em dias: 7300 dias\n",
      "Idade em semanas: 960 semanas\n"
     ]
    }
   ],
   "source": [
    "# exer 38\n",
    "ano_nas = int(input('Qual seu ano de nascimento: '))\n",
    "ano_atual = int(input('Ano atual: '))\n",
    "idade_anos = ano_atual - ano_nas\n",
    "idade_mes = idade_anos * 12\n",
    "idade_dias = idade_anos * 365\n",
    "idade_semanas = idade_anos * (12 * 4)\n",
    "print('Idade em anos: {} anos'.format(idade_anos))\n",
    "print('Idade em meses: {} meses'.format(idade_mes))\n",
    "print('Idade em dias: {} dias'.format(idade_dias))\n",
    "print('Idade em semanas: {} semanas'.format(idade_semanas))"
   ]
  },
  {
   "cell_type": "code",
   "execution_count": 42,
   "metadata": {},
   "outputs": [
    {
     "name": "stdout",
     "output_type": "stream",
     "text": [
      "João pagara R$326.40 de seu salário de R$1200.00\n"
     ]
    }
   ],
   "source": [
    "# exer 39\n",
    "salario = 1200\n",
    "c1 = 200\n",
    "c2 = 120\n",
    "c1 = c1 + ((c1*2) / 100)\n",
    "c2 = c2 + ((c2*2) / 100)\n",
    "total_pagar = c1 + c2\n",
    "print('João pagara R${:.2f} de seu salário de R${:.2f}'.format(total_pagar,salario))"
   ]
  },
  {
   "cell_type": "code",
   "execution_count": 43,
   "metadata": {},
   "outputs": [],
   "source": [
    "from math import sqrt"
   ]
  },
  {
   "cell_type": "code",
   "execution_count": null,
   "metadata": {},
   "outputs": [],
   "source": [
    "# exer 40\n",
    "c1 = f(input('Entre com o 1º cateto: '))\n",
    "c2 = f(input('Entre com o 2º cateto: '))\n",
    "h = sqrt(c1**2 + c2**2)\n",
    "print('Hipotenusa: ',h)\n",
    "\n"
   ]
  }
 ],
 "metadata": {
  "kernelspec": {
   "display_name": "base",
   "language": "python",
   "name": "python3"
  },
  "language_info": {
   "codemirror_mode": {
    "name": "ipython",
    "version": 3
   },
   "file_extension": ".py",
   "mimetype": "text/x-python",
   "name": "python",
   "nbconvert_exporter": "python",
   "pygments_lexer": "ipython3",
   "version": "3.12.7"
  }
 },
 "nbformat": 4,
 "nbformat_minor": 2
}
