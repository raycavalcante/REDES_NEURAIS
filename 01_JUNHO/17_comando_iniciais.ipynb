{
 "cells": [
  {
   "cell_type": "code",
   "execution_count": 1,
   "metadata": {},
   "outputs": [
    {
     "name": "stdout",
     "output_type": "stream",
     "text": [
      "Olá mundo\n"
     ]
    }
   ],
   "source": [
    "print('Olá mundo')"
   ]
  },
  {
   "cell_type": "code",
   "execution_count": 3,
   "metadata": {},
   "outputs": [
    {
     "name": "stdout",
     "output_type": "stream",
     "text": [
      "A soma de 15 mais 5 é igual a 20\n"
     ]
    }
   ],
   "source": [
    "num1 = int(input('Entre com um número: '))\n",
    "num2 = int(input('Entre com outro número: '))\n",
    "\n",
    "soma = num1 + num2\n",
    "print('A soma de {} mais {} é igual a {}'.format(num1,num2,soma))"
   ]
  },
  {
   "cell_type": "code",
   "execution_count": 14,
   "metadata": {},
   "outputs": [
    {
     "name": "stdout",
     "output_type": "stream",
     "text": [
      "A pessoa está peso normal - 23.44\n"
     ]
    }
   ],
   "source": [
    "# imc\n",
    "\n",
    "peso = float(input('Entre com seu peso: '))\n",
    "altura = float(input('Entre com sua altura: '))\n",
    "imc = peso / (altura**2)\n",
    "saida = ''\n",
    "if imc < 18.5:\n",
    "    saida = 'magreza'\n",
    "elif imc < 25:\n",
    "    saida = 'peso normal'\n",
    "elif imc < 30:\n",
    "    saida = 'sobrepeso'\n",
    "else: \n",
    "    saida = 'Obesidade'\n",
    "print('A pessoa está {} - {:.2f}'.format(saida,imc))\n"
   ]
  },
  {
   "cell_type": "code",
   "execution_count": 41,
   "metadata": {},
   "outputs": [
    {
     "name": "stdout",
     "output_type": "stream",
     "text": [
      "Numero: 1\n",
      "positivo impar\n"
     ]
    }
   ],
   "source": [
    "num = int(input('Entre com um número: '))\n",
    "\n",
    "saida = 'zero'\n",
    "\n",
    "if num > 0 and num%2==0:\n",
    "    saida = 'Positivo e par'\n",
    "elif num > 0 and num%2==1:\n",
    "    saida = 'positivo impar'\n",
    "elif num < 0 and num%2==0:\n",
    "    saida = 'Negativo e par'\n",
    "elif num<0 and num%2==1:\n",
    "    saida = 'Negativo impar'\n",
    "print(f'Numero: {num}')\n",
    "print(saida)"
   ]
  },
  {
   "cell_type": "code",
   "execution_count": null,
   "metadata": {},
   "outputs": [
    {
     "name": "stdout",
     "output_type": "stream",
     "text": [
      "Numero: 5\n",
      "positivo impar\n"
     ]
    }
   ],
   "source": [
    "try:\n",
    "    num = int(input('Entre com um número: '))\n",
    "except ValueError:\n",
    "    print('Entrada inválidad, digite outro número:')\n",
    "else:\n",
    "    saida = 'Zero'\n",
    "\n",
    "    if num > 0 and num%2!=1:\n",
    "        saida = 'Positivo e par'\n",
    "    elif num > 0 and num%2!=0:\n",
    "        saida = 'positivo impar'\n",
    "    elif num < 0 and num%2!=1:\n",
    "        saida = 'Negativo e par'\n",
    "    elif num < 0 and num%2!=0:\n",
    "        saida = 'Negativo impar'\n",
    "\n",
    "    print(f'Numero: {num}')\n",
    "    print(saida)"
   ]
  }
 ],
 "metadata": {
  "kernelspec": {
   "display_name": "base",
   "language": "python",
   "name": "python3"
  },
  "language_info": {
   "codemirror_mode": {
    "name": "ipython",
    "version": 3
   },
   "file_extension": ".py",
   "mimetype": "text/x-python",
   "name": "python",
   "nbconvert_exporter": "python",
   "pygments_lexer": "ipython3",
   "version": "3.12.7"
  }
 },
 "nbformat": 4,
 "nbformat_minor": 2
}
