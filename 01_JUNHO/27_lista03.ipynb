{
 "cells": [
  {
   "cell_type": "code",
   "execution_count": 3,
   "metadata": {},
   "outputs": [
    {
     "name": "stdout",
     "output_type": "stream",
     "text": [
      "1  - Eu gosto de estudar Algoritmos!\n",
      "2  - Eu gosto de estudar Algoritmos!\n",
      "3  - Eu gosto de estudar Algoritmos!\n",
      "4  - Eu gosto de estudar Algoritmos!\n",
      "5  - Eu gosto de estudar Algoritmos!\n",
      "6  - Eu gosto de estudar Algoritmos!\n",
      "7  - Eu gosto de estudar Algoritmos!\n",
      "8  - Eu gosto de estudar Algoritmos!\n",
      "9  - Eu gosto de estudar Algoritmos!\n",
      "10  - Eu gosto de estudar Algoritmos!\n",
      "11  - Eu gosto de estudar Algoritmos!\n",
      "12  - Eu gosto de estudar Algoritmos!\n",
      "13  - Eu gosto de estudar Algoritmos!\n",
      "14  - Eu gosto de estudar Algoritmos!\n",
      "15  - Eu gosto de estudar Algoritmos!\n",
      "16  - Eu gosto de estudar Algoritmos!\n",
      "17  - Eu gosto de estudar Algoritmos!\n",
      "18  - Eu gosto de estudar Algoritmos!\n",
      "19  - Eu gosto de estudar Algoritmos!\n",
      "20  - Eu gosto de estudar Algoritmos!\n"
     ]
    }
   ],
   "source": [
    "# exer 01\n",
    "for i in range(20):\n",
    "    print(1+i,' - Eu gosto de estudar Algoritmos!')"
   ]
  },
  {
   "cell_type": "code",
   "execution_count": 4,
   "metadata": {},
   "outputs": [
    {
     "name": "stdout",
     "output_type": "stream",
     "text": [
      "Soma entre 1 e 15:  325\n"
     ]
    }
   ],
   "source": [
    "# exer 02\n",
    "soma = 0\n",
    "for i in range(25):\n",
    "    soma += 1+i\n",
    "print('Soma entre 1 e 15: ',soma)"
   ]
  },
  {
   "cell_type": "code",
   "execution_count": 5,
   "metadata": {},
   "outputs": [
    {
     "name": "stdout",
     "output_type": "stream",
     "text": [
      "1 ray santos\n",
      "2 ray santos\n",
      "3 ray santos\n",
      "4 ray santos\n",
      "5 ray santos\n",
      "6 ray santos\n",
      "7 ray santos\n",
      "8 ray santos\n",
      "9 ray santos\n",
      "10 ray santos\n"
     ]
    }
   ],
   "source": [
    "# exer 03\n",
    "nome = str(input('Entre com seu nome: '))\n",
    "\n",
    "for i in range(10):\n",
    "    print(i+1,nome)"
   ]
  },
  {
   "cell_type": "code",
   "execution_count": null,
   "metadata": {},
   "outputs": [],
   "source": [
    "# exer 04\n"
   ]
  },
  {
   "cell_type": "code",
   "execution_count": 6,
   "metadata": {},
   "outputs": [
    {
     "name": "stdout",
     "output_type": "stream",
     "text": [
      "Soma dos números:  10\n"
     ]
    }
   ],
   "source": [
    "# exer 05\n",
    "soma = 0\n",
    "for i in range(10):\n",
    "    num = int(input('Entre com o {}º número: '.format(1+i)))\n",
    "    soma += num\n",
    "print('Soma dos números: ',soma)"
   ]
  },
  {
   "cell_type": "code",
   "execution_count": 7,
   "metadata": {},
   "outputs": [
    {
     "name": "stdout",
     "output_type": "stream",
     "text": [
      "Soma das idades:  20\n"
     ]
    }
   ],
   "source": [
    "# exer 06\n",
    "soma = 0\n",
    "for i in range(20):\n",
    "    idade = int(input('Entre com a {}º idade: '.format(i+1)))\n",
    "    soma += idade\n",
    "print('Soma das idades: ',soma)"
   ]
  },
  {
   "cell_type": "code",
   "execution_count": null,
   "metadata": {},
   "outputs": [
    {
     "name": "stdout",
     "output_type": "stream",
     "text": [
      "Média das idades:  10.0\n"
     ]
    }
   ],
   "source": [
    "# exer07\n",
    "soma = cont = 0\n",
    "for i in range(20):\n",
    "    idade = int(input('Entre com a {}º idade: '.format(i+1)))\n",
    "    soma += idade\n",
    "    cont = i+1\n",
    "media = soma / cont\n",
    "print('Média das idades: ',media)"
   ]
  },
  {
   "cell_type": "code",
   "execution_count": null,
   "metadata": {},
   "outputs": [
    {
     "name": "stdout",
     "output_type": "stream",
     "text": [
      "Total de pessoas maiores de idade: 1\n"
     ]
    }
   ],
   "source": [
    "# exer 08\n",
    "maior_idade = 0\n",
    "for i in range(20):\n",
    "    idade = int(input('Entre com a {}º idade: '.format(i+1)))\n",
    "    if idade > 17:\n",
    "        maior_idade += 1\n",
    "print('Total de pessoas maiores de idade: {}'.format(maior_idade))"
   ]
  },
  {
   "cell_type": "code",
   "execution_count": null,
   "metadata": {},
   "outputs": [
    {
     "name": "stdout",
     "output_type": "stream",
     "text": [
      "O nome da pessoa mais nova é bruno, com a idade de 10 anos\n"
     ]
    }
   ],
   "source": [
    "# exer 09\n",
    "menor_idade = 0\n",
    "nome_nova = ''\n",
    "for i in range(10):\n",
    "    nome = str(input('Entre com o {}º nome: '.format(i+1)))\n",
    "    idade = int(input('Entre com a {}º idade: '.format(i+1)))\n",
    "    if i == 0:\n",
    "        menor_idade = idade\n",
    "        nome_nova = nome\n",
    "    else:\n",
    "        if idade < menor_idade:\n",
    "            menor_idade = idade\n",
    "            nome_nova = nome\n",
    "\n",
    "print('O nome da pessoa mais nova é {}, com a idade de {} anos'.format(nome_nova,menor_idade))"
   ]
  },
  {
   "cell_type": "code",
   "execution_count": 23,
   "metadata": {},
   "outputs": [
    {
     "name": "stdout",
     "output_type": "stream",
     "text": [
      "5 * 1 = 5\n",
      "5 * 2 = 10\n",
      "5 * 3 = 15\n",
      "5 * 4 = 20\n",
      "5 * 5 = 25\n",
      "5 * 6 = 30\n",
      "5 * 7 = 35\n",
      "5 * 8 = 40\n",
      "5 * 9 = 45\n",
      "5 * 10 = 50\n"
     ]
    }
   ],
   "source": [
    "# exer 10\n",
    "num = int(input('Entre com o número da tabuada desejada: '))\n",
    "for i in range(10):\n",
    "    print('{} * {} = {}'.format(num,i+1,(i+1)*num))"
   ]
  },
  {
   "cell_type": "code",
   "execution_count": null,
   "metadata": {},
   "outputs": [
    {
     "name": "stdout",
     "output_type": "stream",
     "text": [
      "Quantidade de números maiores que 8:  1\n"
     ]
    }
   ],
   "source": [
    "# exer 11\n",
    "cont = 0\n",
    "for i in range(20):\n",
    "    num = int(input('Entre com o {}º número: '.format(i+1)))\n",
    "    if num > 8:\n",
    "        cont += 1\n",
    "print('Quantidade de números maiores que 8: ',cont)"
   ]
  },
  {
   "cell_type": "code",
   "execution_count": 26,
   "metadata": {},
   "outputs": [
    {
     "name": "stdout",
     "output_type": "stream",
     "text": [
      "Quantidade de númerospares:  0\n"
     ]
    }
   ],
   "source": [
    "# exer 12\n",
    "cont = 0\n",
    "for i in range(2):\n",
    "    num = int(input('Entre com o {}º número: '.format(i+1)))\n",
    "    if num%2!=1:\n",
    "        cont += 1\n",
    "print('Quantidade de númerospares: ',cont)"
   ]
  },
  {
   "cell_type": "code",
   "execution_count": 27,
   "metadata": {},
   "outputs": [
    {
     "name": "stdout",
     "output_type": "stream",
     "text": [
      "Quantidade de números entre 0 e 100:  1\n"
     ]
    }
   ],
   "source": [
    "# exer 13\n",
    "cont = 0\n",
    "for i in range(2):\n",
    "    num = int(input('Entre com o {}º número: '.format(i+1)))\n",
    "    if num > 0 and num < 100:\n",
    "        cont += 1\n",
    "print('Quantidade de números entre 0 e 100: ',cont)"
   ]
  },
  {
   "cell_type": "code",
   "execution_count": 31,
   "metadata": {},
   "outputs": [
    {
     "name": "stdout",
     "output_type": "stream",
     "text": [
      "Quantidade de números entre 0 e 100:  1\n",
      "Quantidade de números entre 101 e 200:  1\n",
      "Quantidade de números maiores que 200:  1\n"
     ]
    }
   ],
   "source": [
    "# exe 14\n",
    "zero_100 = 0\n",
    "cem_200 = 0\n",
    "mais_200 = 0\n",
    "for i in range(3):\n",
    "    num = int(input('Entre com o {}º número: '.format(i+1)))\n",
    "    if num>0 and num <101:\n",
    "        zero_100 += 1\n",
    "    elif num >100 and num <201:\n",
    "        cem_200 += 1\n",
    "    else:\n",
    "        mais_200 += 1\n",
    "print('Quantidade de números entre 0 e 100: ',zero_100)\n",
    "print('Quantidade de números entre 101 e 200: ',cem_200)\n",
    "print('Quantidade de números maiores que 200: ',mais_200)"
   ]
  },
  {
   "cell_type": "code",
   "execution_count": 33,
   "metadata": {},
   "outputs": [
    {
     "name": "stdout",
     "output_type": "stream",
     "text": [
      "Soma das números:  20\n"
     ]
    }
   ],
   "source": [
    "# exe 15\n",
    "soma  = num = 0\n",
    "i = 1\n",
    "while num > -1:\n",
    "    num = int(input('Entre com o {}º número: '.format(i)))\n",
    "    if num > -1:\n",
    "        soma += num\n",
    "        i += 1\n",
    "    else: break\n",
    "print('Soma das números: ',soma)"
   ]
  }
 ],
 "metadata": {
  "kernelspec": {
   "display_name": "base",
   "language": "python",
   "name": "python3"
  },
  "language_info": {
   "codemirror_mode": {
    "name": "ipython",
    "version": 3
   },
   "file_extension": ".py",
   "mimetype": "text/x-python",
   "name": "python",
   "nbconvert_exporter": "python",
   "pygments_lexer": "ipython3",
   "version": "3.12.7"
  }
 },
 "nbformat": 4,
 "nbformat_minor": 2
}
