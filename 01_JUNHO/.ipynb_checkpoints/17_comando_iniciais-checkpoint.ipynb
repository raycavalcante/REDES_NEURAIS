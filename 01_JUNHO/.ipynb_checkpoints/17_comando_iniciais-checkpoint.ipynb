{
 "cells": [
  {
   "cell_type": "code",
   "execution_count": 1,
   "metadata": {},
   "outputs": [
    {
     "name": "stdout",
     "output_type": "stream",
     "text": [
      "Olá mundo\n"
     ]
    }
   ],
   "source": [
    "print('Olá mundo')"
   ]
  },
  {
   "cell_type": "code",
   "execution_count": 3,
   "metadata": {},
   "outputs": [
    {
     "name": "stdout",
     "output_type": "stream",
     "text": [
      "A soma de 15 mais 5 é igual a 20\n"
     ]
    }
   ],
   "source": [
    "num1 = int(input('Entre com um número: '))\n",
    "num2 = int(input('Entre com outro número: '))\n",
    "\n",
    "soma = num1 + num2\n",
    "print('A soma de {} mais {} é igual a {}'.format(num1,num2,soma))"
   ]
  },
  {
   "cell_type": "code",
   "execution_count": 14,
   "metadata": {},
   "outputs": [
    {
     "name": "stdout",
     "output_type": "stream",
     "text": [
      "A pessoa está peso normal - 23.44\n"
     ]
    }
   ],
   "source": [
    "# imc\n",
    "\n",
    "peso = float(input('Entre com seu peso: '))\n",
    "altura = float(input('Entre com sua altura: '))\n",
    "imc = peso / (altura**2)\n",
    "saida = ''\n",
    "if imc < 18.5:\n",
    "    saida = 'magreza'\n",
    "elif imc < 25:\n",
    "    saida = 'peso normal'\n",
    "elif imc < 30:\n",
    "    saida = 'sobrepeso'\n",
    "else: \n",
    "    saida = 'Obesidade'\n",
    "print('A pessoa está {} - {:.2f}'.format(saida,imc))\n"
   ]
  },
  {
   "cell_type": "code",
   "execution_count": 41,
   "metadata": {},
   "outputs": [
    {
     "name": "stdout",
     "output_type": "stream",
     "text": [
      "Numero: 1\n",
      "positivo impar\n"
     ]
    }
   ],
   "source": [
    "num = int(input('Entre com um número: '))\n",
    "\n",
    "saida = 'zero'\n",
    "\n",
    "if num > 0 and num%2==0:\n",
    "    saida = 'Positivo e par'\n",
    "elif num > 0 and num%2==1:\n",
    "    saida = 'positivo impar'\n",
    "elif num < 0 and num%2==0:\n",
    "    saida = 'Negativo e par'\n",
    "elif num<0 and num%2==1:\n",
    "    saida = 'Negativo impar'\n",
    "print(f'Numero: {num}')\n",
    "print(saida)"
   ]
  },
  {
   "cell_type": "code",
   "execution_count": 4,
   "metadata": {},
   "outputs": [
    {
     "name": "stdout",
     "output_type": "stream",
     "text": [
      "Numero: 2\n",
      "Positivo Par\n"
     ]
    }
   ],
   "source": [
    "try:\n",
    "    num = int(input('Entre com um número: '))\n",
    "except ValueError:\n",
    "    print('Entrada inválidad, digite outro número:')\n",
    "else:\n",
    "    # saida = 'Zero'\n",
    "\n",
    "    # if num > 0 and num%2!=1:\n",
    "    #     saida = 'Positivo e par'\n",
    "    # elif num > 0 and num%2!=0:\n",
    "    #     saida = 'positivo impar'\n",
    "    # elif num < 0 and num%2!=1:\n",
    "    #     saida = 'Negativo e par'\n",
    "    # elif num < 0 and num%2!=0:\n",
    "    #     saida = 'Negativo impar'\n",
    "    saida = 'Zero'\n",
    "    if num > 0:\n",
    "        if num%2!=0:\n",
    "            saida = 'Positivo impar'\n",
    "        else:\n",
    "            saida = 'Positivo Par'\n",
    "    else:\n",
    "        if num%2!=0:\n",
    "            saida = 'Negativo impar'\n",
    "        else:\n",
    "            saida = 'Negativo Par'\n",
    "    \n",
    "\n",
    "    print(f'Numero: {num}')\n",
    "    print(saida)"
   ]
  },
  {
   "cell_type": "markdown",
   "metadata": {},
   "source": [
    "<!-- liks de exercicíos -->\n",
    "<!-- iniciante - eu -->\n",
    "exercis: https://exercism.org/tracks/python\n",
    "w3schools: https://www.w3schools.com/python/python_exercises.asp\n",
    "python brasil: https://wiki.python.org.br/ListaDeExercicios\n",
    "<!-- intermediario:  -->\n",
    "HackerRank – Python Challenges:https://www.hackerrank.com/domains/tutorials/10-days-of-python\n",
    "LeetCode: https://leetcode.com/problemset/all/?difficulty=Easy&listId=wpwgkgt\n",
    "Codewars: https://www.codewars.com/kata/latest?language=python\n",
    "Project Euler: https://projecteuler.net/archives\n",
    "<!-- avancado -->\n",
    "Real Python: https://realpython.com/\n",
    "Kaggle: https://www.kaggle.com/learn/python\n"
   ]
  },
  {
   "cell_type": "code",
   "execution_count": 12,
   "metadata": {},
   "outputs": [
    {
     "name": "stdout",
     "output_type": "stream",
     "text": [
      "Valor disponivel para saque R$1000\n",
      "Valor de saque realizado R$1002.0\n",
      "Valor disponivel para saque: R$ -2.0\n",
      "-----------------------------\n",
      "Saldo final: R$-2.0\n"
     ]
    }
   ],
   "source": [
    "saldo = 1000\n",
    "print('Valor disponivel para saque R${}'.format(saldo))\n",
    "\n",
    "while saldo > 0:\n",
    "    \n",
    "    valor_saque = float(input('Entre com o valor do saque: '))\n",
    "    print('Valor de saque realizado R${}'.format(valor_saque))\n",
    "    saldo -= valor_saque\n",
    "\n",
    "    print('Valor disponivel para saque: R$',saldo)\n",
    "\n",
    "    if valor_saque < saldo:\n",
    "        print('valor indisponivel, você tem somente R${} em conta!'.format(saldo))\n",
    "    print('-----------------------------')\n",
    "print('Saldo final: R${}'.format(saldo))"
   ]
  },
  {
   "cell_type": "code",
   "execution_count": 15,
   "metadata": {},
   "outputs": [
    {
     "name": "stdout",
     "output_type": "stream",
     "text": [
      "['maça', 'banana', 'goiaba']\n",
      "maça\n",
      "['maça', 'banana', 'goiaba', 'laranja']\n",
      "['maça', 'banana', 'goiaba']\n",
      "3\n"
     ]
    }
   ],
   "source": [
    "feira = ['maça','banana','goiaba']\n",
    "print(feira)\n",
    "print(feira[0])\n",
    "feira.append('laranja')\n",
    "print(feira)\n",
    "feira.remove('laranja')\n",
    "print(feira)\n",
    "print(len(feira))"
   ]
  },
  {
   "cell_type": "code",
   "execution_count": null,
   "metadata": {},
   "outputs": [
    {
     "name": "stdout",
     "output_type": "stream",
     "text": [
      "12.35\n"
     ]
    }
   ],
   "source": [
    "n = 12.3455\n",
    "print(round(n,2))\n"
   ]
  },
  {
   "cell_type": "code",
   "execution_count": 17,
   "metadata": {},
   "outputs": [
    {
     "ename": "ValueError",
     "evalue": "invalid literal for int() with base 10: '=-'",
     "output_type": "error",
     "traceback": [
      "\u001b[1;31m---------------------------------------------------------------------------\u001b[0m",
      "\u001b[1;31mValueError\u001b[0m                                Traceback (most recent call last)",
      "Cell \u001b[1;32mIn[17], line 3\u001b[0m\n\u001b[0;32m      1\u001b[0m tarefas \u001b[38;5;241m=\u001b[39m []\n\u001b[0;32m      2\u001b[0m \u001b[38;5;28;01mwhile\u001b[39;00m \u001b[38;5;28;01mTrue\u001b[39;00m:\n\u001b[1;32m----> 3\u001b[0m     opcao \u001b[38;5;241m=\u001b[39m \u001b[38;5;28mint\u001b[39m(\u001b[38;5;28minput\u001b[39m(\u001b[38;5;124m'\u001b[39m\u001b[38;5;124m1- Adicionar tarefa\u001b[39m\u001b[38;5;130;01m\\n\u001b[39;00m\u001b[38;5;124m2- Exibir tarefa\u001b[39m\u001b[38;5;130;01m\\n\u001b[39;00m\u001b[38;5;124m0- Para finalizar\u001b[39m\u001b[38;5;124m'\u001b[39m))\n\u001b[0;32m      4\u001b[0m     \u001b[38;5;28;01mif\u001b[39;00m opcao \u001b[38;5;241m==\u001b[39m \u001b[38;5;241m1\u001b[39m:\n\u001b[0;32m      5\u001b[0m         tarefa \u001b[38;5;241m=\u001b[39m \u001b[38;5;28mstr\u001b[39m(\u001b[38;5;28minput\u001b[39m(\u001b[38;5;124m'\u001b[39m\u001b[38;5;124mInforme sua tarefa: \u001b[39m\u001b[38;5;124m'\u001b[39m))\n",
      "\u001b[1;31mValueError\u001b[0m: invalid literal for int() with base 10: '=-'"
     ]
    }
   ],
   "source": [
    "tarefas = []\n",
    "while True:\n",
    "    opcao = int(input('1- Adicionar tarefa\\n2- Exibir tarefa\\n0- Para finalizar'))\n",
    "    if opcao == 1:\n",
    "        tarefa = str(input('Informe sua tarefa: '))\n",
    "        tarefas.append(tarefa)\n",
    "    elif opcao == 2:\n",
    "        cont = 1\n",
    "        while cont < len(tarefas):\n",
    "            print('{cont+1}º tarefa: {}'.format(cont,tarefas[cont]))\n",
    "    else:\n",
    "        break\n",
    "print('Programa finalizado!')\n"
   ]
  }
 ],
 "metadata": {
  "kernelspec": {
   "display_name": "base",
   "language": "python",
   "name": "python3"
  },
  "language_info": {
   "codemirror_mode": {
    "name": "ipython",
    "version": 3
   },
   "file_extension": ".py",
   "mimetype": "text/x-python",
   "name": "python",
   "nbconvert_exporter": "python",
   "pygments_lexer": "ipython3",
   "version": "3.12.7"
  }
 },
 "nbformat": 4,
 "nbformat_minor": 2
}
