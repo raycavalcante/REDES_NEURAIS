{
 "cells": [
  {
   "cell_type": "markdown",
   "metadata": {},
   "source": [
    "### LISTA DE EXERCÍCIOS DE ALGORITMOS "
   ]
  },
  {
   "cell_type": "code",
   "execution_count": 4,
   "metadata": {},
   "outputs": [
    {
     "name": "stdout",
     "output_type": "stream",
     "text": [
      "A soma de 1 e 1 é menor que 5\n"
     ]
    }
   ],
   "source": [
    "# exer 01\n",
    "a = int(input('Entre com o valor de A: '))\n",
    "b = int(input('Entre com o valor de B: '))\n",
    "c = int(input('Entre com o valor de C: '))\n",
    "\n",
    "print( f'A soma de {a} e {b} é menor que {c}' if a+b<c else f'Soma {a} + {b}: {a+b}')"
   ]
  },
  {
   "cell_type": "code",
   "execution_count": 12,
   "metadata": {},
   "outputs": [
    {
     "name": "stdout",
     "output_type": "stream",
     "text": [
      "Nome:  bia\n",
      "Sexo:  Feminino\n",
      "Estado civil:  Casado(a)\n",
      "Tempo casado: 25 anos\n"
     ]
    }
   ],
   "source": [
    "# exer 02\n",
    "nome = str(input('Entre com seu nome: '))\n",
    "sexo = str(input('entre com seu sexo (M/F): ')).lower().strip()\n",
    "\n",
    "estado_civil = str(input('Entre com seu estado civil\\n (C/S/D/V): ')).lower().strip()\n",
    "saida = 'sem mais informação'\n",
    "\n",
    "if sexo == 'f' and estado_civil == 'c':\n",
    "    tempo_casado = int(input('Entre com o tempo casado: '))\n",
    "    saida = f'Tempo casado: {tempo_casado} anos'\n",
    "\n",
    "if sexo == 'f':\n",
    "    sexo = 'Feminino'\n",
    "else:\n",
    "    sexo = 'Masculino'\n",
    "\n",
    "if estado_civil == 'c':\n",
    "    estado_civil = 'Casado(a)'\n",
    "elif estado_civil == 's':\n",
    "    estado_civil = 'Solteiro(a)'\n",
    "elif estado_civil == 'd':\n",
    "    estado_civil = 'Disvórciado(a)'\n",
    "else:\n",
    "    estado_civil = 'Viúvo(a)'\n",
    "\n",
    "\n",
    "print('Nome: ',nome)\n",
    "print('Sexo: ',sexo)\n",
    "print('Estado civil: ',estado_civil)\n",
    "print(saida)\n"
   ]
  },
  {
   "cell_type": "code",
   "execution_count": 17,
   "metadata": {},
   "outputs": [
    {
     "name": "stdout",
     "output_type": "stream",
     "text": [
      "Número par\n"
     ]
    }
   ],
   "source": [
    "# exer 03\n",
    "num = int(input('Entre com um número: '))\n",
    "saida = ''\n",
    "if num % 2 != 0:\n",
    "    saida = 'Número impar'\n",
    "else:\n",
    "    saida = 'Número par'\n",
    "print(saida)"
   ]
  },
  {
   "cell_type": "code",
   "execution_count": null,
   "metadata": {},
   "outputs": [
    {
     "name": "stdout",
     "output_type": "stream",
     "text": [
      "Resultado:  15\n"
     ]
    }
   ],
   "source": [
    "# exer 04\n",
    "a = int(input('Entre com o valor de A: '))\n",
    "b = int(input('Entre com o valor de B: '))\n",
    "saida = 0\n",
    "if a == b:\n",
    "    saida = a + b\n",
    "else:\n",
    "    saida = a * b\n",
    "c = int(input('Entre com um valor para subtrair: '))\n",
    "saida -= c\n",
    "\n",
    "print('Resultado: ',saida)"
   ]
  },
  {
   "cell_type": "code",
   "execution_count": 27,
   "metadata": {},
   "outputs": [
    {
     "name": "stdout",
     "output_type": "stream",
     "text": [
      "A terça parte de -50 é:  -16.67\n"
     ]
    }
   ],
   "source": [
    "# exer 05\n",
    "num = int(input('Entre com um número: '))\n",
    "saida = ''\n",
    "if num > 0:\n",
    "    saida = f'A soma de {num} + {num} é: '\n",
    "    num *= 2\n",
    "else:\n",
    "    saida = f'A terça parte de {num} é: '\n",
    "    num /= 3\n",
    "print('{} {:.2f}'.format(saida,num))"
   ]
  },
  {
   "cell_type": "code",
   "execution_count": 27,
   "metadata": {},
   "outputs": [
    {
     "name": "stdout",
     "output_type": "stream",
     "text": [
      "Valor1:  true\n",
      "Valor2:  false\n",
      "<class 'str'>\n",
      "<class 'str'>\n",
      "Valor1:  True\n",
      "Valor2:  False\n",
      "<class 'bool'>\n",
      "<class 'bool'>\n",
      "Os valores são diferente (um é TRUE e outro é FALSE)\n"
     ]
    }
   ],
   "source": [
    "# exer 06\n",
    "v1 = input('Entre com o 1º valor booleano (True ou False): ')\n",
    "v2 = input('Entre com o 2º valor booleano (True ou False): ')\n",
    "\n",
    "print('Valor1: ',v1)\n",
    "print('Valor2: ',v2)\n",
    "print(type(v1))\n",
    "print(type(v2))\n",
    "\n",
    "bo1 = v1.strip().capitalize() == \"True\"\n",
    "bo2 = v2.strip().capitalize() == \"True\"\n",
    "\n",
    "print('Valor1: ',bo1)\n",
    "print('Valor2: ',bo2)\n",
    "print(type(bo1))\n",
    "print(type(bo2))\n",
    "\n",
    "if bo1 == bo2:\n",
    "    if v1:\n",
    "        print('Ambos os valores são VERDADEIRO')\n",
    "    else:\n",
    "        print('Ambos os valores são FALSOS')\n",
    "else:\n",
    "    print('Os valores são diferente (um é TRUE e outro é FALSE)')\n"
   ]
  },
  {
   "cell_type": "code",
   "execution_count": 32,
   "metadata": {},
   "outputs": [
    {
     "name": "stdout",
     "output_type": "stream",
     "text": [
      "Número PAR, soma de 2 + 5 = 7\n"
     ]
    }
   ],
   "source": [
    "# exer 07\n",
    "num = int(input('Entre com um valor: '))\n",
    "i = 0\n",
    "if num % 2 != 0:\n",
    "    i = num\n",
    "    i += 8\n",
    "    print('Número IMPAR, soma de {} + 8 = {}'.format(num,i))\n",
    "else:\n",
    "    i = num\n",
    "    i += 5\n",
    "    print('Número PAR, soma de {} + 5 = {}'.format(num,i))\n"
   ]
  },
  {
   "cell_type": "code",
   "execution_count": 39,
   "metadata": {},
   "outputs": [
    {
     "name": "stdout",
     "output_type": "stream",
     "text": [
      "[4, 3, 2]\n",
      "[2, 3, 4]\n"
     ]
    }
   ],
   "source": [
    "# exer 08\n",
    "lista = []\n",
    "for i in range(3):\n",
    "    a = int(input('Entre com um valor: '))\n",
    "    lista.append(a)\n",
    "print(lista)\n",
    "\n",
    "lista.sort()\n",
    "print(lista)"
   ]
  },
  {
   "cell_type": "code",
   "execution_count": 9,
   "metadata": {},
   "outputs": [
    {
     "name": "stdout",
     "output_type": "stream",
     "text": [
      "peso Ideal: 57.52\n"
     ]
    }
   ],
   "source": [
    "# exer 9\n",
    "\n",
    "def peso_homens(altura): \n",
    "    return (72.2 * altura) - 58\n",
    "\n",
    "def peso_mulheres(altura): \n",
    "    return ((62.1*altura)) - 44.7\n",
    "\n",
    "def main():\n",
    "    try:\n",
    "        altura = float(input('Entre com sua altura: '))\n",
    "        sexo = str(input('entre com seu sexo (m/f): ')).lower().strip()\n",
    "\n",
    "        match sexo:\n",
    "            case 'f':\n",
    "                peso_ideal = peso_mulheres(altura)\n",
    "            case 'm':\n",
    "                peso_ideal = peso_homens(altura)\n",
    "            case _:\n",
    "                print('Opção inválida')\n",
    "        print('peso Ideal: {:.2f}'.format(peso_ideal))\n",
    "    except:\n",
    "        print('erro: valor invalido!')\n",
    "main()\n"
   ]
  },
  {
   "cell_type": "code",
   "execution_count": 19,
   "metadata": {},
   "outputs": [
    {
     "name": "stdout",
     "output_type": "stream",
     "text": [
      "Peso: 60.00\n",
      "Altura: 1.60\n",
      "IMC: 23.44\n",
      "Classificação: Peso Normal\n"
     ]
    }
   ],
   "source": [
    "# exer 10\n",
    "def imc_calc(peso,altura):\n",
    "    return (peso / (altura**2))\n",
    "def classificacao(imc):\n",
    "    match imc:\n",
    "        case _ if imc < 18.6:\n",
    "            return 'Abaixo do Peso'\n",
    "        case _ if imc > 18.5 and imc < 26:\n",
    "            return 'Peso Normal'\n",
    "        case _ if imc > 25 and imc < 31:\n",
    "            return 'Acima do Peso'\n",
    "        case _ if imc > 30 :\n",
    "            return 'Acima do Peso'\n",
    "def main():\n",
    "    try:\n",
    "        peso = float(input('Enre com seu peso: '))\n",
    "        altura = float(input('Entre com sua altura: '))\n",
    "\n",
    "        imc = imc_calc(peso, altura)\n",
    "\n",
    "        condicao = classificacao(imc)\n",
    "\n",
    "        print('Peso: {:.2f}\\nAltura: {:.2f}'.format(peso, altura))\n",
    "        print('IMC: {:.2f}'.format(imc))\n",
    "        print('Classificação: {}'.format(condicao))\n",
    "    except:\n",
    "        print('Erro: valores inválidos')\n",
    "\n",
    "main()"
   ]
  },
  {
   "cell_type": "code",
   "execution_count": 31,
   "metadata": {},
   "outputs": [
    {
     "name": "stdout",
     "output_type": "stream",
     "text": [
      "1 - Dinheiro/cheque (-10%)\n",
      "2 - A vista cartão de crédito (-15%)\n",
      "3 - 2x no Cartão (Sem Juros)\n",
      "4 - 2x no cartão (10% juros)\n",
      "----------------------------------------\n",
      "Total a pagar no cartão a vista com 10% de juros: 2x 85.00\n"
     ]
    }
   ],
   "source": [
    "# exer 11\n",
    "def menu():\n",
    "    print('1 - Dinheiro/cheque (-10%)')\n",
    "    print('2 - A vista cartão de crédito (-15%)')\n",
    "    print('3 - 2x no Cartão (Sem Juros)')\n",
    "    print('4 - 2x no cartão (10% juros)')\n",
    "    return int(input('..:: '))\n",
    "def a_vista(preco):\n",
    "    return preco - ((preco * 10) / 100)\n",
    "\n",
    "def cartao(preco):\n",
    "    return preco - ((preco * 15) / 100)\n",
    "\n",
    "def cartao_2x(preco):\n",
    "    return preco / 2\n",
    "\n",
    "def cartao_2x_juros(preco):\n",
    "    return ((preco * 10 ) / 100) + (preco / 2)\n",
    "\n",
    "def pagamentos(opcao, valor):\n",
    "    saida = ''\n",
    "    match opcao:\n",
    "        case 1:\n",
    "            pagar = a_vista(valor)\n",
    "            saida = 'Total a pagar a vista: {:.2f}'.format(pagar)\n",
    "        case 2:\n",
    "            pagar = cartao(valor)\n",
    "            saida = 'Total a pagar no cartão a vista sem juros: {:.2f}'.format(pagar)\n",
    "        case 3:\n",
    "            pagar = cartao_2x(valor)\n",
    "            saida = 'Total a pagar no cartão 2x sem juros: {:.2f}'.format(pagar)\n",
    "        case 4:\n",
    "            pagar = cartao(valor)\n",
    "            saida = 'Total a pagar no cartão a vista com 10% de juros: 2x {:.2f}'.format(pagar)\n",
    "        case _: \n",
    "            print('Opçao inválida!')\n",
    "    print('-' * 40)\n",
    "    print(saida)\n",
    "\n",
    "def main():\n",
    "    try:\n",
    "        \n",
    "        preco = float(input('Entre com o valor do produto: '))\n",
    "\n",
    "        opcao = menu()\n",
    "\n",
    "        pagamentos(opcao, preco)\n",
    "\n",
    "    except:\n",
    "        print('Erro: valor inválido')\n",
    "main()\n",
    "\n",
    "\n"
   ]
  },
  {
   "cell_type": "code",
   "execution_count": 16,
   "metadata": {},
   "outputs": [
    {
     "name": "stdout",
     "output_type": "stream",
     "text": [
      "Média: 100.00\n",
      "Conceito: A\n"
     ]
    }
   ],
   "source": [
    "# exer 12\n",
    "n1 = float(input('Entre com a 1º nota: '))\n",
    "n2 = float(input('Entre com a 2º nota: '))\n",
    "n3 = float(input('Entre com a 3º nota: '))\n",
    " \n",
    "me = (n1+n2+n3) / 3\n",
    "\n",
    "\n",
    "ma = ((n1 + n2 * 2 + n3 * 3 + me) / 7) * 10\n",
    " \n",
    "print(f'Média: {ma:.2f}')\n",
    "saida = 'Conceito: A'\n",
    "\n",
    "if ma >= 75 and ma < 90:\n",
    "    saida = 'Conceito: B'\n",
    "elif ma >= 60 and ma < 75:\n",
    "    saida = 'Conceito: C'\n",
    "elif ma >= 40 and ma < 50:\n",
    "    saida = 'Conceito: A'\n",
    "elif ma < 40:\n",
    "    saida = 'Conceito: A'\n",
    "\n",
    "print(saida)\n",
    "    \n",
    "\n",
    "\n",
    "    \n",
    "\n"
   ]
  }
 ],
 "metadata": {
  "kernelspec": {
   "display_name": "base",
   "language": "python",
   "name": "python3"
  },
  "language_info": {
   "codemirror_mode": {
    "name": "ipython",
    "version": 3
   },
   "file_extension": ".py",
   "mimetype": "text/x-python",
   "name": "python",
   "nbconvert_exporter": "python",
   "pygments_lexer": "ipython3",
   "version": "3.12.7"
  }
 },
 "nbformat": 4,
 "nbformat_minor": 2
}
