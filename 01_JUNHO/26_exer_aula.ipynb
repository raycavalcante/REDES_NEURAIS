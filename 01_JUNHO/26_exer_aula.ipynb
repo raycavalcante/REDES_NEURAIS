{
 "cells": [
  {
   "cell_type": "markdown",
   "metadata": {},
   "source": [
    "### LISTA DE EXERCÍCIOS DE ALGORITMOS "
   ]
  },
  {
   "cell_type": "code",
   "execution_count": 4,
   "metadata": {},
   "outputs": [
    {
     "name": "stdout",
     "output_type": "stream",
     "text": [
      "A soma de 1 e 1 é menor que 5\n"
     ]
    }
   ],
   "source": [
    "# exer 01\n",
    "a = int(input('Entre com o valor de A: '))\n",
    "b = int(input('Entre com o valor de B: '))\n",
    "c = int(input('Entre com o valor de C: '))\n",
    "\n",
    "print( f'A soma de {a} e {b} é menor que {c}' if a+b<c else f'Soma {a} + {b}: {a+b}')"
   ]
  },
  {
   "cell_type": "code",
   "execution_count": 12,
   "metadata": {},
   "outputs": [
    {
     "name": "stdout",
     "output_type": "stream",
     "text": [
      "Nome:  bia\n",
      "Sexo:  Feminino\n",
      "Estado civil:  Casado(a)\n",
      "Tempo casado: 25 anos\n"
     ]
    }
   ],
   "source": [
    "# exer 02\n",
    "nome = str(input('Entre com seu nome: '))\n",
    "sexo = str(input('entre com seu sexo (M/F): ')).lower().strip()\n",
    "\n",
    "estado_civil = str(input('Entre com seu estado civil\\n (C/S/D/V): ')).lower().strip()\n",
    "saida = 'sem mais informação'\n",
    "\n",
    "if sexo == 'f' and estado_civil == 'c':\n",
    "    tempo_casado = int(input('Entre com o tempo casado: '))\n",
    "    saida = f'Tempo casado: {tempo_casado} anos'\n",
    "\n",
    "if sexo == 'f':\n",
    "    sexo = 'Feminino'\n",
    "else:\n",
    "    sexo = 'Masculino'\n",
    "\n",
    "if estado_civil == 'c':\n",
    "    estado_civil = 'Casado(a)'\n",
    "elif estado_civil == 's':\n",
    "    estado_civil = 'Solteiro(a)'\n",
    "elif estado_civil == 'd':\n",
    "    estado_civil = 'Disvórciado(a)'\n",
    "else:\n",
    "    estado_civil = 'Viúvo(a)'\n",
    "\n",
    "\n",
    "print('Nome: ',nome)\n",
    "print('Sexo: ',sexo)\n",
    "print('Estado civil: ',estado_civil)\n",
    "print(saida)\n"
   ]
  },
  {
   "cell_type": "code",
   "execution_count": 17,
   "metadata": {},
   "outputs": [
    {
     "name": "stdout",
     "output_type": "stream",
     "text": [
      "Número par\n"
     ]
    }
   ],
   "source": [
    "# exer 03\n",
    "num = int(input('Entre com um número: '))\n",
    "saida = ''\n",
    "if num % 2 != 0:\n",
    "    saida = 'Número impar'\n",
    "else:\n",
    "    saida = 'Número par'\n",
    "print(saida)"
   ]
  },
  {
   "cell_type": "code",
   "execution_count": null,
   "metadata": {},
   "outputs": [
    {
     "name": "stdout",
     "output_type": "stream",
     "text": [
      "Resultado:  15\n"
     ]
    }
   ],
   "source": [
    "# exer 04\n",
    "a = int(input('Entre com o valor de A: '))\n",
    "b = int(input('Entre com o valor de B: '))\n",
    "saida = 0\n",
    "if a == b:\n",
    "    saida = a + b\n",
    "else:\n",
    "    saida = a * b\n",
    "c = int(input('Entre com um valor para subtrair: '))\n",
    "saida -= c\n",
    "\n",
    "print('Resultado: ',saida)"
   ]
  },
  {
   "cell_type": "code",
   "execution_count": 27,
   "metadata": {},
   "outputs": [
    {
     "name": "stdout",
     "output_type": "stream",
     "text": [
      "A terça parte de -50 é:  -16.67\n"
     ]
    }
   ],
   "source": [
    "# exer 05\n",
    "num = int(input('Entre com um número: '))\n",
    "saida = ''\n",
    "if num > 0:\n",
    "    saida = f'A soma de {num} + {num} é: '\n",
    "    num *= 2\n",
    "else:\n",
    "    saida = f'A terça parte de {num} é: '\n",
    "    num /= 3\n",
    "print('{} {:.2f}'.format(saida,num))"
   ]
  },
  {
   "cell_type": "code",
   "execution_count": null,
   "metadata": {},
   "outputs": [],
   "source": [
    "# exer 06\n"
   ]
  },
  {
   "cell_type": "code",
   "execution_count": 32,
   "metadata": {},
   "outputs": [
    {
     "name": "stdout",
     "output_type": "stream",
     "text": [
      "Número PAR, soma de 2 + 5 = 7\n"
     ]
    }
   ],
   "source": [
    "# exer 07\n",
    "num = int(input('Entre com um valor: '))\n",
    "i = 0\n",
    "if num % 2 != 0:\n",
    "    i = num\n",
    "    i += 8\n",
    "    print('Número IMPAR, soma de {} + 8 = {}'.format(num,i))\n",
    "else:\n",
    "    i = num\n",
    "    i += 5\n",
    "    print('Número PAR, soma de {} + 5 = {}'.format(num,i))\n"
   ]
  },
  {
   "cell_type": "code",
   "execution_count": 39,
   "metadata": {},
   "outputs": [
    {
     "name": "stdout",
     "output_type": "stream",
     "text": [
      "[4, 3, 2]\n",
      "[2, 3, 4]\n"
     ]
    }
   ],
   "source": [
    "# exer 08\n",
    "lista = []\n",
    "for i in range(3):\n",
    "    a = int(input('Entre com um valor: '))\n",
    "    lista.append(a)\n",
    "print(lista)\n",
    "\n",
    "lista.sort()\n",
    "print(lista)"
   ]
  }
 ],
 "metadata": {
  "kernelspec": {
   "display_name": "base",
   "language": "python",
   "name": "python3"
  },
  "language_info": {
   "codemirror_mode": {
    "name": "ipython",
    "version": 3
   },
   "file_extension": ".py",
   "mimetype": "text/x-python",
   "name": "python",
   "nbconvert_exporter": "python",
   "pygments_lexer": "ipython3",
   "version": "3.12.7"
  }
 },
 "nbformat": 4,
 "nbformat_minor": 2
}
