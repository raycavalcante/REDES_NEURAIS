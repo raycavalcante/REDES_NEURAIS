{
 "cells": [
  {
   "cell_type": "code",
   "execution_count": 1,
   "metadata": {},
   "outputs": [],
   "source": [
    "import numpy as np"
   ]
  },
  {
   "cell_type": "code",
   "execution_count": 9,
   "metadata": {},
   "outputs": [
    {
     "name": "stdout",
     "output_type": "stream",
     "text": [
      "Estrada: [1 1] Pessoas: [0.4 0.6] Bias: \n",
      "Soma ponderada (z):  1.1\n",
      "------------------------------\n",
      "Saída com degrau:  1\n",
      "Saída com sigmoide:  0.7502601055951177\n",
      "Saída com Tanh:  0.8004990217606297\n",
      "Saída com ReLu:  1.1\n"
     ]
    }
   ],
   "source": [
    "# funcoes de ativicação\n",
    "def step(z):\n",
    "    return 1 if z >= 0 else 0\n",
    "def sigmoid(z):\n",
    "    return 1 / (1+ np.exp(-z))\n",
    "def tanh(z):\n",
    "    return np.tanh(z)\n",
    "def relu(z):\n",
    "    return np.maximum(0,z)\n",
    "# neuronios simples\n",
    "def neuron(x, w, b, activation_func):\n",
    "    z = np.dot(w, x) + b\n",
    "    return activation_func(z)\n",
    "# exemplo\n",
    "x_input = np.array([1,1])\n",
    "weights = np.array([0.4, 0.6])\n",
    "bias = 0.1\n",
    "print('Estrada: {} Pessoas: {} Bias: '.format(x_input,weights,bias))\n",
    "print('Soma ponderada (z): ',np.dot(weights, x_input) + bias)\n",
    "print('-' * 30)\n",
    "print('Saída com degrau: ',neuron(x_input, weights, bias, step))\n",
    "print('Saída com sigmoide: ',neuron(x_input, weights, bias, sigmoid))\n",
    "print('Saída com Tanh: ',neuron(x_input, weights, bias, tanh))\n",
    "print('Saída com ReLu: ',neuron(x_input, weights, bias, relu))"
   ]
  },
  {
   "cell_type": "markdown",
   "metadata": {},
   "source": [
    "### TESTE"
   ]
  },
  {
   "cell_type": "code",
   "execution_count": 10,
   "metadata": {},
   "outputs": [],
   "source": [
    "import numpy as np"
   ]
  },
  {
   "cell_type": "code",
   "execution_count": null,
   "metadata": {},
   "outputs": [
    {
     "name": "stdout",
     "output_type": "stream",
     "text": [
      "Saída após função (Produção de acaí):  [12  0  8  0 15  0]\n"
     ]
    }
   ],
   "source": [
    "# função relu useo para limitar dados de açaí\n",
    "def relu(x):\n",
    "    return np.maximum(0, x)\n",
    "# Dados de somulação para produção diaria de açai\n",
    "producao = np.array([12,-5,8,-1,15,0])\n",
    "\n",
    "saida = relu(producao)\n",
    "\n",
    "print('Saída após função (Produção de acaí): ',saida)"
   ]
  },
  {
   "cell_type": "code",
   "execution_count": 27,
   "metadata": {},
   "outputs": [
    {
     "name": "stdout",
     "output_type": "stream",
     "text": [
      "Receita total estimada:  33.5\n"
     ]
    }
   ],
   "source": [
    "# anALIZAR TONELADAS com esse model\n",
    "producao = np.array([2,4,1])\n",
    "\n",
    "preco = np.array([5.0,4.5,5.5])\n",
    "\n",
    "# dot faz um exercicío matematico\n",
    "receita = np.dot(producao, preco)\n",
    "\n",
    "print('Receita total estimada: ',receita)\n"
   ]
  },
  {
   "cell_type": "code",
   "execution_count": 28,
   "metadata": {},
   "outputs": [
    {
     "name": "stdout",
     "output_type": "stream",
     "text": [
      "Vivel do rio atual:  [20 15 25 17 30 18 20 23 10 12]\n",
      "Previsão do ano com base na função tanh():  [1. 1. 1. 1. 1. 1. 1. 1. 1. 1.]\n"
     ]
    }
   ],
   "source": [
    "def tanh(tan):\n",
    "    return np.tanh(tan)\n",
    "# niveis de rio ao longo do ano\n",
    "nivel_rio = np.array([20,15,25,17,30,18,20,23,10,12])\n",
    "\n",
    "# aplicando a função tanh \n",
    "previsao = tanh(nivel_rio)\n",
    "\n",
    "print('Vivel do rio atual: ',nivel_rio)\n",
    "print('Previsão do ano com base na função tanh(): ',np.round(previsao,3))\n",
    "\n"
   ]
  },
  {
   "cell_type": "code",
   "execution_count": 32,
   "metadata": {},
   "outputs": [],
   "source": [
    "import matplotlib.pyplot as plt\n",
    "import numpy as np"
   ]
  },
  {
   "cell_type": "code",
   "execution_count": null,
   "metadata": {},
   "outputs": [
    {
     "name": "stdout",
     "output_type": "stream",
     "text": [
      "Risco de queimadas:  [-5.   -3.25 -1.5   0.25  2.  ]\n",
      "-5.00 \t0.007\n",
      "-3.25 \t0.037\n",
      "-1.50 \t0.182\n",
      "0.25 \t0.562\n",
      "2.00 \t0.881\n"
     ]
    }
   ],
   "source": [
    "def sigmoid(x):\n",
    "    return 1 / (1 + np.exp(-x))\n",
    "# valores de queimadas de risco de queimadas\n",
    "risco_queimada = np.linspace(-5,2,5)\n",
    "probabilidade = sigmoid(risco_queimada)\n",
    "\n",
    "print('Risco de queimadas: ',risco_queimada)\n",
    "for risc, pro in zip(risco_queimada, np.round(probabilidade,3)):\n",
    "    print('{:.2f} \\t{:.3f}'.format(risc,pro))\n",
    "# print('Probabilidade de queimada: ',np.round(probabilidade,2))"
   ]
  }
 ],
 "metadata": {
  "kernelspec": {
   "display_name": "base",
   "language": "python",
   "name": "python3"
  },
  "language_info": {
   "codemirror_mode": {
    "name": "ipython",
    "version": 3
   },
   "file_extension": ".py",
   "mimetype": "text/x-python",
   "name": "python",
   "nbconvert_exporter": "python",
   "pygments_lexer": "ipython3",
   "version": "3.12.7"
  }
 },
 "nbformat": 4,
 "nbformat_minor": 2
}
