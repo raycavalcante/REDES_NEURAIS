{
 "cells": [
  {
   "cell_type": "code",
   "execution_count": 1,
   "metadata": {},
   "outputs": [
    {
     "name": "stdout",
     "output_type": "stream",
     "text": [
      "Ola mundo\n"
     ]
    }
   ],
   "source": [
    "print('Ola mundo')"
   ]
  },
  {
   "cell_type": "code",
   "execution_count": null,
   "metadata": {},
   "outputs": [
    {
     "name": "stdout",
     "output_type": "stream",
     "text": [
      "Name: scikit-learn\n",
      "Version: 1.5.1\n",
      "Summary: A set of python modules for machine learning and data mining\n",
      "Home-page: https://scikit-learn.org\n",
      "Author: \n",
      "Author-email: \n",
      "License: new BSD\n",
      "Location: C:\\ProgramData\\anaconda3\\Lib\\site-packages\n",
      "Requires: joblib, numpy, scipy, threadpoolctl\n",
      "Required-by: imbalanced-learn\n"
     ]
    }
   ],
   "source": [
    "# !pip list -- geral \n",
    "# !pip show scikit-learn\n",
    "\n",
    "# !pip show tensorflow\n",
    "# - especifico "
   ]
  },
  {
   "cell_type": "code",
   "execution_count": 2,
   "metadata": {},
   "outputs": [],
   "source": [
    "import numpy as np\n",
    "from tensorflow.keras.models import Sequential\n",
    "from tensorflow.keras.layers import Dense"
   ]
  },
  {
   "cell_type": "code",
   "execution_count": 4,
   "metadata": {},
   "outputs": [
    {
     "name": "stdout",
     "output_type": "stream",
     "text": [
      "\u001b[1m1/1\u001b[0m \u001b[32m━━━━━━━━━━━━━━━━━━━━\u001b[0m\u001b[37m\u001b[0m \u001b[1m0s\u001b[0m 34ms/step\n",
      "Exemplo: 1: Ar Ruim (Probabilidade: 1.00)\n",
      "Exemplo: 2: Ar Ruim (Probabilidade: 1.00)\n"
     ]
    }
   ],
   "source": [
    "# Danos simulados: [temperatura °C, Nivel de poluição (0 á 100) ]\n",
    "\n",
    "# saída: 1 = ar ruim, 0 = ar bom\n",
    "x = np.array([[30,70],[32,80],[28,40],[29,35],[34,90]])\n",
    "y = np.array([[1],[1],[0],[0],[1]])\n",
    "\n",
    "# Criar modelo \n",
    "model = Sequential()\n",
    "model.add(Dense(4, input_dim=2, activation='relu')) #Camda oculta com função de ativação\n",
    "model.add(Dense(1, activation='sigmoid')) # Saída binário\n",
    "\n",
    "# Compilar e treinar \n",
    "model.compile(optimizer='adam', loss='binary_crossentropy', metrics=['accuracy'])\n",
    "model.fit(x, y, epochs=50, verbose=0)\n",
    "\n",
    "# teste com novos dados\n",
    "novos_dados = np.array([[31,60],[27,30]])\n",
    "\n",
    "# fazer predições \n",
    "predicoes = model.predict(novos_dados)\n",
    "\n",
    "# interpretação \n",
    "for i, pred in enumerate(predicoes):\n",
    "    if pred > 0.5:\n",
    "        print(f'Exemplo: {i+1}: Ar Ruim (Probabilidade: {pred[0]:.2f})')\n",
    "    else:\n",
    "        print(f'Exemplo: {i+1}: Ar Bom (Probabilidade: {pred[0]:.2f})')"
   ]
  }
 ],
 "metadata": {
  "kernelspec": {
   "display_name": "base",
   "language": "python",
   "name": "python3"
  },
  "language_info": {
   "codemirror_mode": {
    "name": "ipython",
    "version": 3
   },
   "file_extension": ".py",
   "mimetype": "text/x-python",
   "name": "python",
   "nbconvert_exporter": "python",
   "pygments_lexer": "ipython3",
   "version": "3.12.7"
  }
 },
 "nbformat": 4,
 "nbformat_minor": 4
}
