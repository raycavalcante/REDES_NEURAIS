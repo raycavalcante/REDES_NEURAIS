{
 "cells": [
  {
   "cell_type": "code",
   "execution_count": 1,
   "metadata": {},
   "outputs": [],
   "source": [
    "import numpy as np"
   ]
  },
  {
   "cell_type": "markdown",
   "metadata": {},
   "source": [
    "### FUNÇÃO RELU : exer 01"
   ]
  },
  {
   "cell_type": "code",
   "execution_count": 50,
   "metadata": {},
   "outputs": [
    {
     "name": "stdout",
     "output_type": "stream",
     "text": [
      "Entradas:  [12. 45.  3.]\n",
      "Pesos:  [ 0.5  0.2 -0.5]\n",
      "Ponderada:  12.5\n",
      "Neurônio:  12.5\n",
      "Alerta: sem muito perigo\n"
     ]
    }
   ],
   "source": [
    "# exer 01\n",
    "# vamos utilizar a função ReLu\n",
    "def relu(x):\n",
    "    return np.maximum(0, x)\n",
    "try:\n",
    "        \n",
    "    # valores de entradas\n",
    "    dia1 = float(input('Quantidade de chuvas do 1º dia: '))\n",
    "    dia2 = float(input('Quantidade de chuvas do 2º dia: '))\n",
    "    dia3 = float(input('Quantidade de chuvas do 3º dia: '))\n",
    "\n",
    "    entradas = np.array([dia1, dia2, dia3])\n",
    "    # entradas = np.array([150, 190, 58])\n",
    "\n",
    "    # peso e importancia \n",
    "    p1 = float(input('Peso por 1º dia: '))\n",
    "    p2 = float(input('Peso por 2º dia: '))\n",
    "    p3 = float(input('Peso por 3º dia: '))\n",
    "\n",
    "    pesos = np.array([p1,p2,p3])\n",
    "    # pesos = np.array([0.2, 0.9, -0.4])\n",
    "\n",
    "    # valor bias\n",
    "    bias = -1\n",
    "\n",
    "    # soma da ponderada \n",
    "    soma_ponderada = np.dot(entradas, pesos ) + bias\n",
    "\n",
    "    # saida neuronio \n",
    "    saida_neuronio = relu(soma_ponderada)\n",
    "\n",
    "    # apresentando os dados\n",
    "    print('Entradas: ',entradas)\n",
    "    print('Pesos: ',pesos)\n",
    "    print('Ponderada: ',soma_ponderada)\n",
    "    print('Neurônio: ',saida_neuronio)\n",
    "\n",
    "    # interpretação das informações\n",
    "    if saida_neuronio > 100:\n",
    "        print('Alerta: Maior Risco de Cheia')\n",
    "    else:\n",
    "        print('Alerta: sem muito perigo')\n",
    "except:\n",
    "    print('ERRO: valor inválido')"
   ]
  },
  {
   "cell_type": "markdown",
   "metadata": {},
   "source": [
    "### FUNÇÃO DEGRAU : exer 02"
   ]
  },
  {
   "cell_type": "code",
   "execution_count": null,
   "metadata": {},
   "outputs": [],
   "source": [
    "def degrau(x):\n",
    "    return 1 if x >= 0.7 else 0\n",
    "try:\n",
    "\n",
    "    t = float(input('Turbidez (0,10): '))\n",
    "    o = float(input('odor (0,10): '))\n",
    "    l = float(input('lixo (0,1): '))\n",
    "\n",
    "    entradas = np.array([t, o, l])\n",
    "    # entradas = np.array([0.6,0.3,1.0])\n",
    "\n",
    "    pesos = np.array([0.3,-0.5,0.9])\n",
    "\n",
    "    bias = -1.2\n",
    "\n",
    "    ponderada = np.dot(entradas, pesos) + bias\n",
    "\n",
    "    neuronio = degrau(ponderada)\n",
    "\n",
    "    print('Ponderada: ',ponderada)\n",
    "\n",
    "    print('Classificação (1= improprio, 0=própria) ',neuronio)\n",
    "\n",
    "    # interpretação \n",
    "\n",
    "    if neuronio == 1:\n",
    "        print('Agua sem qualidade')\n",
    "    else:\n",
    "        print('Àgua de qualidade de comsumo')\n",
    "except:\n",
    "    print('ERRO: valor inválido')"
   ]
  },
  {
   "cell_type": "markdown",
   "metadata": {},
   "source": [
    "### FUNÇÃO SIGMOID : exer 03"
   ]
  },
  {
   "cell_type": "code",
   "execution_count": null,
   "metadata": {},
   "outputs": [
    {
     "name": "stdout",
     "output_type": "stream",
     "text": [
      "Entradas:  [9. 5. 0.]\n",
      "Pesos:  [ 0.4  0.7 -0.3]\n",
      "saida neuronio:  0.997268039236989\n",
      "Alta probabilidade\n"
     ]
    }
   ],
   "source": [
    "# exer 03\n",
    "# função sigmoid\n",
    "def sigmoid(x):\n",
    "    return 1 / (1 + np.exp(-x))\n",
    "\n",
    "try:\n",
    "    # valores de entradas \n",
    "    t = float(input('Temperatura °C: '))\n",
    "    r = float(input('Nivel Rio: '))\n",
    "    h = float(input('Hora: '))\n",
    "\n",
    "    entradas = np.array([t, r, h])\n",
    "\n",
    "    # pesos e importancia \n",
    "    pesos = np.array([0.4,0.7,-0.3])\n",
    "\n",
    "    # valor bias\n",
    "    bias = -1.2\n",
    "\n",
    "    # soma ponderada \n",
    "    ponderada = np.dot(entradas, pesos) + bias\n",
    "\n",
    "    # neuro \n",
    "    saida_neuro = sigmoid(ponderada)\n",
    "\n",
    "    # printando as informações \n",
    "    print('Entradas: ',entradas)\n",
    "    print('Pesos: ',pesos)\n",
    "    print('saida neuronio: ',saida_neuro)\n",
    "\n",
    "    # interpratação \n",
    "    if saida_neuro > 0.5:\n",
    "        print('Alta probabilidade')\n",
    "    else:\n",
    "        print('Baixa probabilidaded')\n",
    "except:\n",
    "    print('ERRO: valor inválido')\n",
    "\n",
    "\n",
    "\n"
   ]
  },
  {
   "cell_type": "markdown",
   "metadata": {},
   "source": [
    "### FUNÇÃO TANH : exer 04"
   ]
  },
  {
   "cell_type": "code",
   "execution_count": 42,
   "metadata": {},
   "outputs": [
    {
     "name": "stdout",
     "output_type": "stream",
     "text": [
      "Entradas:  [30 87 12]\n",
      "Pesos:  [ 0.3  0.1 -0.4]\n",
      "Neurônio:  0.9999999995432353\n",
      "Muito Quente\n"
     ]
    }
   ],
   "source": [
    "# função tanh \n",
    "def tanh(x):\n",
    "    return np.tanh(x)\n",
    "try:\n",
    "\n",
    "    # input iniciais das entradas \n",
    "    tem = 30\n",
    "    umi = 87\n",
    "    hora = 12\n",
    "    # tem = float(input('entre com a temperatura do sola em °C: '))\n",
    "    # umi = float(input('entre com a umidade relativa: '))\n",
    "    # hora = float(input('entre com a hora dia: '))\n",
    "\n",
    "    # input iniciais das pesos \n",
    "\n",
    "    w1 = 0.3\n",
    "    w2 = 0.1\n",
    "    w3 = -0.4\n",
    "    # w1 = float(input('entre com o peso da temperatura: '))\n",
    "    # w2 = float(input('entre com o peso da umidade: '))\n",
    "    # w3 = float(input('entre com o peso da hora: '))\n",
    "\n",
    "    # valores de entradas \n",
    "    entradas = np.array([tem, umi, hora])\n",
    "\n",
    "    # valores dos pesos \n",
    "    pesos = np.array([w1,w2,w3])\n",
    "\n",
    "    # valor bias \n",
    "    bias = -1.8\n",
    "\n",
    "    # soma ponderada \n",
    "    ponderada = np.dot(entradas, pesos) + bias\n",
    "\n",
    "    # saida neuronio \n",
    "    neuronio = tanh(ponderada)\n",
    "\n",
    "    # apresentar as informações \n",
    "    print('Entradas: ',entradas)\n",
    "    print('Pesos: ',pesos)\n",
    "    print('Neurônio: ',neuronio)\n",
    "\n",
    "    # interpretação \n",
    "    if neuronio < -0.5:\n",
    "        print('Muito Frio')\n",
    "    elif neuronio > 0.5:\n",
    "        print('Muito Quente')\n",
    "    else:\n",
    "        print('Ideal')\n",
    "except:\n",
    "    print('ERRO: Valores inválido')\n"
   ]
  }
 ],
 "metadata": {
  "kernelspec": {
   "display_name": "base",
   "language": "python",
   "name": "python3"
  },
  "language_info": {
   "codemirror_mode": {
    "name": "ipython",
    "version": 3
   },
   "file_extension": ".py",
   "mimetype": "text/x-python",
   "name": "python",
   "nbconvert_exporter": "python",
   "pygments_lexer": "ipython3",
   "version": "3.12.7"
  }
 },
 "nbformat": 4,
 "nbformat_minor": 2
}
