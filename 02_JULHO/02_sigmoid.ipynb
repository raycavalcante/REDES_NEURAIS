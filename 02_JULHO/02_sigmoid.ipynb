{
 "cells": [
  {
   "cell_type": "markdown",
   "metadata": {},
   "source": [
    "###  FUNÇÃO PERCEPTRON"
   ]
  },
  {
   "cell_type": "code",
   "execution_count": 6,
   "metadata": {},
   "outputs": [
    {
     "name": "stdout",
     "output_type": "stream",
     "text": [
      "X1 (Sol forte), x2 (feriado) - saida (ir á ponta branca?)\n",
      "        0              0              - 0\n",
      "        0              1              - 0\n",
      "        1              0              - 0\n",
      "        1              1              - 1\n"
     ]
    }
   ],
   "source": [
    "# exer 01\n",
    "# deve ir a praia ou não\n",
    "def perceptron(x1, x2):\n",
    "    # pesos \n",
    "    w1 = 2.0 #peso 1 te mais importancia\n",
    "    w2 = 1.5 #segunda importancia\n",
    "\n",
    "    # se eu quiser que a bias tem mais facil eu coloco um valor positivo\n",
    "    # se eu queser que seja mais criterioso coloco negativo\n",
    "    bias = -2.5\n",
    "\n",
    "    # soma ponderada manual\n",
    "    soma = w1 * x1 + w2 * x2 + bias\n",
    "\n",
    "    # --------------------------\n",
    "    # funcçao de ativação\n",
    "    # vou usar a função legal: step\n",
    "    if soma >= 0:\n",
    "        return 1\n",
    "    else:\n",
    "        return 0\n",
    "\n",
    "# preciso das informações de entreda\n",
    "entradas = [(0,0),(0,1),(1,0),(1,1)]\n",
    "\n",
    "print('X1 (Sol forte), x2 (feriado) - saida (ir á ponta branca?)')\n",
    "\n",
    "for x1, x2 in entradas:\n",
    "    saida = perceptron(x1,x2)\n",
    "    print(f'        {x1}              {x2}              - {saida}')\n",
    "\n"
   ]
  },
  {
   "cell_type": "code",
   "execution_count": 4,
   "metadata": {},
   "outputs": [],
   "source": [
    "import numpy as np"
   ]
  },
  {
   "cell_type": "markdown",
   "metadata": {},
   "source": [
    "### FUNAÇÃO SIGMOID"
   ]
  },
  {
   "cell_type": "code",
   "execution_count": 14,
   "metadata": {},
   "outputs": [
    {
     "name": "stdout",
     "output_type": "stream",
     "text": [
      " ==== travesia Fluvial Tefé-Alvarães ====\n",
      "Entredas: [28.  12.   0.7]\n",
      "Saída: 0.34\n",
      "A travessia não é segura\n"
     ]
    }
   ],
   "source": [
    "# função sigmoid \n",
    "def sigmoid(x):\n",
    "    return 1 / (1+np.exp(-x))\n",
    "# entradas: nivel rio (m), velocidade do vento (km/h)\n",
    "# visibilidade (0 a 100) - porcentagem\n",
    "entradas = np.array([28, 12, 0.7])\n",
    "\n",
    "# pesos\n",
    "# importancia de pessos\n",
    "# peso 1: professor: visibilidade\n",
    "# peso 2 : nivel do rio \n",
    "# peso 3: velocidade\n",
    "\n",
    "pesos = np.array([0.3,-0.6,0.9])\n",
    "\n",
    "bias = -2.5\n",
    "\n",
    "# esse dot é a soma da poderada \n",
    "soma_ponderada = np.dot(entradas,pesos) + bias\n",
    "\n",
    "saida_neuronio = sigmoid(soma_ponderada)\n",
    "\n",
    "# prints\n",
    "print(' ==== travesia Fluvial Tefé-Alvarães ====')\n",
    "print('Entredas: {}'.format(entradas))\n",
    "print(f'Saída: {saida_neuronio:.2f}')\n",
    "if saida_neuronio > 0.5:\n",
    "    print('Decisão: Pode atravessar')\n",
    "else:\n",
    "    print('A travessia não é segura')\n"
   ]
  },
  {
   "cell_type": "code",
   "execution_count": null,
   "metadata": {},
   "outputs": [],
   "source": [
    "# x1 - quantidade de turista de 0 - 100\n",
    "# x2 - clima ensolarado 1 = sim, 0 = nao\n",
    "# x3 - altura da mare (m)"
   ]
  },
  {
   "cell_type": "code",
   "execution_count": 77,
   "metadata": {},
   "outputs": [
    {
     "name": "stdout",
     "output_type": "stream",
     "text": [
      "Situação para ver o encontro das águas\n",
      "Entradas: [50.   1.   2.2]\n",
      "Saidas: 3.348243978565934e-11\n",
      "Hoje não é um dia bom\n"
     ]
    }
   ],
   "source": [
    "# from matplotlib.pyplot import clim\n",
    "\n",
    "\n",
    "# # exer 02\n",
    "def sigmoid(x):\n",
    "    return 1 / (1+np.exp(-x))\n",
    "\n",
    "# # entradas das informações\n",
    "entrada = np.array([50,1,2.2])\n",
    "\n",
    "# # pesos \n",
    "# p1 clima\n",
    "# p2 mare\n",
    "# p3 turista\n",
    "\n",
    "peso = np.array([-0.5,1,0.4])\n",
    "\n",
    "bias = -1\n",
    "\n",
    "ponderada = np.dot(entrada, peso) + bias\n",
    "\n",
    "neuronio = sigmoid(ponderada)\n",
    "\n",
    "print('Situação para ver o encontro das águas')\n",
    "print(f'Entradas: {entrada}')\n",
    "print(f'Saidas: {neuronio}')\n",
    "if neuronio > 0.5:\n",
    "    print('Hoje é um otimo dia para ver o encontro das águas')\n",
    "else:\n",
    "    print('Hoje não é um dia bom')\n"
   ]
  },
  {
   "cell_type": "code",
   "execution_count": 29,
   "metadata": {},
   "outputs": [
    {
     "name": "stdout",
     "output_type": "stream",
     "text": [
      "Situação para ver o encontro das águas\n",
      "Entradas: [20  0  3]\n",
      "Saidas: 1.2729811194234181e-16\n",
      "Hoje não é um dia bom\n"
     ]
    }
   ],
   "source": [
    "\n",
    "# # exer 02\n",
    "def sigmoid(x):\n",
    "    return 1 / (1+np.exp(-x))\n",
    "\n",
    "# # entradas das informações\n",
    "entrada = np.array([20,0,3])\n",
    "\n",
    "# # pesos \n",
    "# p1 clima\n",
    "# p2 mare\n",
    "# p3 turista\n",
    "\n",
    "peso = np.array([-2,0.9,0.3])\n",
    "\n",
    "bias = 2.5\n",
    "\n",
    "ponderada = np.dot(entrada, peso) + bias\n",
    "\n",
    "neuronio = sigmoid(ponderada)\n",
    "\n",
    "print('Situação para ver o encontro das águas')\n",
    "print(f'Entradas: {entrada}')\n",
    "print(f'Saidas: {neuronio}')\n",
    "if neuronio > 0.5:\n",
    "    print('Hoje é um otimo dia para ver o encontro das águas')\n",
    "else:\n",
    "    print('Hoje não é um dia bom')"
   ]
  },
  {
   "cell_type": "code",
   "execution_count": 24,
   "metadata": {},
   "outputs": [
    {
     "name": "stdout",
     "output_type": "stream",
     "text": [
      "ola\n"
     ]
    }
   ],
   "source": [
    "n = 1\n",
    "if n > 0:\n",
    "    print('ola')\n",
    "else:\n",
    "    print('nada')"
   ]
  },
  {
   "cell_type": "code",
   "execution_count": 73,
   "metadata": {},
   "outputs": [
    {
     "name": "stdout",
     "output_type": "stream",
     "text": [
      "--- Posibilidade de colher castanhas ---\n",
      "Entradas:  [20  0  3]\n",
      "Saida: 3.8440698952601175e-18\n",
      "Não pode colher hoje!\n"
     ]
    }
   ],
   "source": [
    "# exer 03\n",
    "def sigmoid(y):\n",
    "    return 1 / (1+np.exp(-y))\n",
    "# entradas \n",
    "# chuva\n",
    "# umidade\n",
    "# vento\n",
    "# entradas = np.array([0.5,1.9,1])\n",
    "entradas = np.array([20,0,3])\n",
    "# pesos \n",
    "# p1 ventos\n",
    "# p2 umidade\n",
    "# p3 chuva\n",
    "# pesos = np.array([-0.3,0.1,1])\n",
    "pesos = np.array([-2,0.9,0.3])\n",
    "\n",
    "bias = -1\n",
    "\n",
    "ponderada = np.dot(entradas, peso) + bias\n",
    "\n",
    "neuronio = sigmoid(ponderada)\n",
    "\n",
    "print('--- Posibilidade de colher castanhas ---')\n",
    "print('Entradas: ',entradas)\n",
    "print(f'Saida: {neuronio}')\n",
    "if neuronio > 0.5:\n",
    "    print('Pode conher castanha!')\n",
    "else:\n",
    "    print('Não pode colher hoje!')"
   ]
  }
 ],
 "metadata": {
  "kernelspec": {
   "display_name": "base",
   "language": "python",
   "name": "python3"
  },
  "language_info": {
   "codemirror_mode": {
    "name": "ipython",
    "version": 3
   },
   "file_extension": ".py",
   "mimetype": "text/x-python",
   "name": "python",
   "nbconvert_exporter": "python",
   "pygments_lexer": "ipython3",
   "version": "3.12.7"
  }
 },
 "nbformat": 4,
 "nbformat_minor": 2
}
