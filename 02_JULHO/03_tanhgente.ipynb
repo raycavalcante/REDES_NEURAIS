{
 "cells": [
  {
   "cell_type": "markdown",
   "metadata": {},
   "source": [
    "### UTILIZANDO A TANHGENTE"
   ]
  },
  {
   "cell_type": "code",
   "execution_count": 1,
   "metadata": {},
   "outputs": [],
   "source": [
    "import numpy as np"
   ]
  },
  {
   "cell_type": "code",
   "execution_count": 2,
   "metadata": {},
   "outputs": [
    {
     "name": "stdout",
     "output_type": "stream",
     "text": [
      "Tanh(-2.1 = -0.970451936613454)\n",
      "Tanh(0.0 = 0.0)\n",
      "Tanh(1.5 = 0.9051482536448665)\n",
      "A nota: tanh(x) aproxima-se de -1 para x << 0 e de 1 para x >> 0\n"
     ]
    }
   ],
   "source": [
    "# exer 01\n",
    "# exercicio de temperatura\n",
    "\n",
    "# temperaturas\n",
    "z = [-2.1,0.0,1.5]\n",
    "# chamar a tangente / calculo manual\n",
    "tanh_valor = [np.tanh(x) for x in z]\n",
    "\n",
    "# percorrendo os valores de z eda tanh \n",
    "for x, val in zip(z, tanh_valor):\n",
    "    # printando esses valores\n",
    "    print(f'Tanh({x} = {val})')\n",
    "\n",
    "print('A nota: tanh(x) aproxima-se de -1 para x << 0 e de 1 para x >> 0')\n",
    "\n"
   ]
  },
  {
   "cell_type": "code",
   "execution_count": 12,
   "metadata": {},
   "outputs": [
    {
     "name": "stdout",
     "output_type": "stream",
     "text": [
      "Entradas: [7.0e+02 2.0e-01 1.2e+01]\n",
      "peso: [ 0.9 -0.7  0.1]\n",
      "Saída dos neurônios: 628.06\n",
      "Alta probabilidade de produção\n"
     ]
    }
   ],
   "source": [
    "# exer 02\n",
    "# mesmo codigo de cima com if else \n",
    "\n",
    "# função relu\n",
    "def relu(x):\n",
    "    return max(0, x)\n",
    "\n",
    "\n",
    "# entradas dos renuronio: \n",
    "# radiacap solar (0/ 1000)/ \n",
    "# cobertura das nuvem/\n",
    "#  hora dia\n",
    "entradas = np.array([700,0.2,12])\n",
    "\n",
    "# pesos : importancia de entradas\n",
    "# hora peso 1\n",
    "# cobertura peso \n",
    "\n",
    "pesos = np.array([0.9,-0.7,0.1])\n",
    "\n",
    "# bias do neuro \n",
    "bias = -3\n",
    "\n",
    "# realizando a soma da ponderada \n",
    "soma_ponderada = np.dot(entradas, pesos) + bias\n",
    "\n",
    "# saida com a função relu ou criada \n",
    "saida_neuro = relu(soma_ponderada)\n",
    "\n",
    "# printando essas informações\n",
    "print(f'Entradas: {entradas}')\n",
    "print(f'peso: {pesos}')\n",
    "print(f'Saída dos neurônios: {saida_neuro:.2f}')\n",
    "\n",
    "# interpretando essas informações\n",
    "if saida_neuro > 200:\n",
    "    print('Alta probabilidade de produção')\n",
    "else:\n",
    "    print('produção baixa')\n"
   ]
  },
  {
   "cell_type": "code",
   "execution_count": 27,
   "metadata": {},
   "outputs": [
    {
     "name": "stdout",
     "output_type": "stream",
     "text": [
      "Saída neurônio: 1.0\n",
      "Conforto termico alto: \n"
     ]
    }
   ],
   "source": [
    "# tanh exer 03\n",
    "def tanh(x):\n",
    "    return np.tanh(x)\n",
    "\n",
    "# entradas \n",
    "entradas = np.array([26,0.78,10])\n",
    "\n",
    "# pesos \n",
    "pesos = np.array([0.7,-0.5,0.2])\n",
    "\n",
    "# bias \n",
    "bias = 54\n",
    "\n",
    "\n",
    "# poderada \n",
    "soma_ponderada = np.dot(entradas, pesos) + bias\n",
    "\n",
    "# saida \n",
    "neuronio = tanh(soma_ponderada)\n",
    "\n",
    "# printando \n",
    "print(f'Saída neurônio: {neuronio}')\n",
    "\n",
    "if neuronio > 0.5:\n",
    "    print('Conforto termico alto: ')\n",
    "elif neuronio < -0.5:\n",
    "    print('Está desconfortavel')\n",
    "else:\n",
    "    print('O clima está moderado')"
   ]
  },
  {
   "cell_type": "code",
   "execution_count": 41,
   "metadata": {},
   "outputs": [
    {
     "name": "stdout",
     "output_type": "stream",
     "text": [
      "informações das funções\n",
      "Entradas: [26.   0.7  8. ]\n",
      "Pesos: [ 0.9  0.4 -0.1]\n",
      "Saida sigmoid: 0.9999999994814579\n",
      "Saida tanh: 0.9999999994814579\n",
      "Saida relu: 0.9999999994814579\n",
      "Interpretando as informações\n",
      "______________________________\n",
      "Função sigmoid\n",
      "Alerta maximo de risco\n",
      "______________________________\n",
      "Função tanh\n",
      "sem risco\n",
      "______________________________\n",
      "Função relu\n",
      "sem risco\n"
     ]
    }
   ],
   "source": [
    "# exer 04\n",
    "\n",
    "# funções\n",
    "def sigmoid(x):\n",
    "    return 1 / (1 + np.exp(-x))\n",
    "\n",
    "def tanh(x):\n",
    "    return np.tanh(x)\n",
    "\n",
    "def relu(z):\n",
    "    return max(0, x)\n",
    "\n",
    "# entradas \n",
    "entradas = np.array([26,0.7,8])\n",
    "\n",
    "# pesos \n",
    "pesos = np.array([0.9,0.4,-0.1])\n",
    "\n",
    "# bias \n",
    "bias = -1.5\n",
    "\n",
    "ponderada_sig = np.dot(entradas, pesos) + bias\n",
    "\n",
    "ponderada_tan = np.dot(entradas, pesos) + bias \n",
    "\n",
    "ponderada_relu = np.dot(entradas, pesos) + bias\n",
    "\n",
    "saida_sig = sigmoid(ponderada_sig)\n",
    "saida_tanh = sigmoid(ponderada_tan)\n",
    "saida_relu = sigmoid(ponderada_relu)\n",
    "\n",
    "print('informações das funções')\n",
    "print(f'Entradas: {entradas}')\n",
    "print(f'Pesos: {pesos}')\n",
    "print(f'Saida sigmoid: {saida_sig}')\n",
    "print(f'Saida tanh: {saida_tanh}')\n",
    "print(f'Saida relu: {saida_relu}')\n",
    "\n",
    "print('Interpretando as informações')\n",
    "print('_' * 30)\n",
    "print('Função sigmoid')\n",
    "if saida_sig > 0.5:\n",
    "    print('Alerta maximo de risco')\n",
    "else:\n",
    "    print('sem risco')\n",
    "\n",
    "print('_' * 30)\n",
    "print('Função tanh')\n",
    "if saida_tanh < 0:\n",
    "    print('Alerta maximo de risco')\n",
    "else:\n",
    "    print('sem risco')\n",
    "\n",
    "print('_' * 30)\n",
    "print('Função relu')\n",
    "if saida_relu > 5:\n",
    "    print('Alerta maximo de risco')\n",
    "else:\n",
    "    print('sem risco')\n",
    "\n",
    "\n"
   ]
  },
  {
   "cell_type": "code",
   "execution_count": 48,
   "metadata": {},
   "outputs": [
    {
     "name": "stdout",
     "output_type": "stream",
     "text": [
      "------------------------------\n",
      "=== resultados  ====\n",
      "Soma ponderada: 18.64\n",
      "ReLu: 1.50\n",
      "Sigmoid: 1.00000\n",
      "Tanh: 1.00000\n",
      "------------------------------\n",
      "Interpretação das saidas\n",
      "------------------------------\n",
      "ReLu: Sem risco\n",
      "------------------------------\n",
      "sigmoid: Alerta maximo\n",
      "------------------------------\n",
      "Tanh: sem risco\n"
     ]
    }
   ],
   "source": [
    "# exer feito pelo professor\n",
    "# funções\n",
    "def sigmoid(x):\n",
    "    return 1 / (1 + np.exp(-x))\n",
    "\n",
    "def tanh(x):\n",
    "    return np.tanh(x)\n",
    "\n",
    "def relu(z):\n",
    "    return max(0, x)\n",
    "\n",
    "try:\n",
    "    # entradas com variaveis\n",
    "    temp = float(input('Temperatura em graus °C: '))\n",
    "    umid = float(input('Entre com a quantidade fumaça 0 e 1: '))\n",
    "    fumaca = float(input('fuma entre (0 e 10): '))\n",
    "\n",
    "    entradas = np.array([temp, umid, fumaca])\n",
    "    pesos = np.array([0.6, -0.4, 1.2])\n",
    "    bias = -10\n",
    "\n",
    "    soma_ponderada = np.dot(entradas, pesos ) + bias\n",
    "\n",
    "    saida_relu = relu(soma_ponderada)\n",
    "    saida_sigmoid = sigmoid(soma_ponderada)\n",
    "    saida_tanh = tanh(soma_ponderada)\n",
    "    print('-'*30)\n",
    "\n",
    "    # resultados\n",
    "    print('=== resultados  ====')\n",
    "    print(f'Soma ponderada: {soma_ponderada:.2f}')\n",
    "    print(f'ReLu: {saida_relu:.2f}')\n",
    "    print(f'Sigmoid: {saida_sigmoid:.5f}')\n",
    "    print(f'Tanh: {saida_tanh:.5f}')\n",
    "\n",
    "    print('-'*30)\n",
    "    # interpretação \n",
    "    print('Interpretação das saidas')\n",
    "    print('-'*30)\n",
    "    if saida_relu > 5:\n",
    "        print('ReLu: Alerta maximo')\n",
    "    else:\n",
    "        print('ReLu: Sem risco')\n",
    "    print('-'*30)\n",
    "    if saida_sigmoid > 0.5:\n",
    "        print('sigmoid: Alerta maximo')\n",
    "    else:\n",
    "        print('sigmoid: sem perigo')\n",
    "    print('-'*30)\n",
    "    if saida_tanh < 0:\n",
    "        print('Tanh: Alerta maximo')\n",
    "    else:\n",
    "        print('Tanh: sem risco')\n",
    "except:\n",
    "    print('Valores digitados inválidos')\n"
   ]
  }
 ],
 "metadata": {
  "kernelspec": {
   "display_name": "base",
   "language": "python",
   "name": "python3"
  },
  "language_info": {
   "codemirror_mode": {
    "name": "ipython",
    "version": 3
   },
   "file_extension": ".py",
   "mimetype": "text/x-python",
   "name": "python",
   "nbconvert_exporter": "python",
   "pygments_lexer": "ipython3",
   "version": "3.12.7"
  }
 },
 "nbformat": 4,
 "nbformat_minor": 2
}
